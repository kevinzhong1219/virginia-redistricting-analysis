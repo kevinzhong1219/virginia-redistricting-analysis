{
 "cells": [
  {
   "cell_type": "markdown",
   "id": "22953232-b141-4d4d-99b2-4b24270e219d",
   "metadata": {},
   "source": [
    "## Data Source:\n",
    "\n",
    "[Population data](https://redistrictingdatahub.org/dataset/virginia-block-pl-94171-2020/): based on the decennial census at the Census Block level on 2020 Census Redistricting Data\n",
    "\n",
    "[2020 County data](https://redistrictingdatahub.org/dataset/virginia-county-pl-94171-2020/): from 2020 Census Redistricting Data (P.L. 94-171) Shapefiles\n",
    "\n",
    "[State Senate District data](https://redistrictingdatahub.org/dataset/2021-senate-of-virginia-districts-approved-plan/): 2021 State Senate Approved Plan\n",
    "\n",
    "[2020 election data](https://redistrictingdatahub.org/dataset/vest-2020-virginia-precinct-boundaries-and-election-results-shapefile/)**:**  VEST 2020 Virginia precinct and election results"
   ]
  },
  {
   "cell_type": "code",
   "execution_count": 1,
   "id": "a23faf70-44b2-4d02-9308-ab5acaf0ae59",
   "metadata": {},
   "outputs": [],
   "source": [
    "import pandas as pd\n",
    "import geopandas as gpd\n",
    "import maup\n",
    "from maup import smart_repair\n",
    "import time\n",
    "import os\n",
    "\n",
    "maup.progress.enabled = True"
   ]
  },
  {
   "cell_type": "code",
   "execution_count": 2,
   "id": "42cf11d6-451e-43cd-b2ec-e867d438ca85",
   "metadata": {},
   "outputs": [],
   "source": [
    "import warnings\n",
    "warnings.filterwarnings('ignore')"
   ]
  },
  {
   "cell_type": "code",
   "execution_count": 3,
   "id": "ac847013-a121-4ace-9e72-7dfe2ae2e506",
   "metadata": {},
   "outputs": [],
   "source": [
    "maup.progress.enabled = True"
   ]
  },
  {
   "cell_type": "code",
   "execution_count": 4,
   "id": "b0504ee2-5a77-4d90-be9b-8f5d604425b6",
   "metadata": {},
   "outputs": [
    {
     "name": "stdout",
     "output_type": "stream",
     "text": [
      "The time to import va_pl2020_p2_b.shp is: 3.935054365793864 mins\n"
     ]
    }
   ],
   "source": [
    "start_time = time.time()\n",
    "population_df = gpd.read_file(\"./va_pl2020_b/va_pl2020_b.shp\")\n",
    "end_time = time.time()\n",
    "print(\"The time to import va_pl2020_p2_b.shp is:\",\n",
    "      (end_time-start_time)/60, \"mins\")"
   ]
  },
  {
   "cell_type": "code",
   "execution_count": 5,
   "id": "46fec307-4de6-4129-b1f2-10541db1cf82",
   "metadata": {},
   "outputs": [
    {
     "name": "stdout",
     "output_type": "stream",
     "text": [
      "The time to import va_vest_20.shp is: 0.0696080207824707 mins\n"
     ]
    }
   ],
   "source": [
    "start_time = time.time()\n",
    "vest20_df = gpd.read_file(\"./VA Vest 20/va_vest_20.shp\")\n",
    "end_time = time.time()\n",
    "print(\"The time to import va_vest_20.shp is:\",\n",
    "      (end_time-start_time)/60, \"mins\")"
   ]
  },
  {
   "cell_type": "code",
   "execution_count": 6,
   "id": "1230ea4f-3e84-4f30-b7af-4bf81572399e",
   "metadata": {},
   "outputs": [
    {
     "name": "stdout",
     "output_type": "stream",
     "text": [
      "The time to import va_pl2020_cnty.shp is: 0.02003743251164754 mins\n"
     ]
    }
   ],
   "source": [
    "start_time = time.time()\n",
    "county_df = gpd.read_file(\"./VA 2020 County Data/va_pl2020_cnty.shp\")\n",
    "end_time = time.time()\n",
    "print(\"The time to import va_pl2020_cnty.shp is:\",\n",
    "      (end_time-start_time)/60, \"mins\")"
   ]
  },
  {
   "cell_type": "code",
   "execution_count": 7,
   "id": "db9f0f1d-8728-48de-8358-2c2bb6c8ac0e",
   "metadata": {},
   "outputs": [
    {
     "name": "stdout",
     "output_type": "stream",
     "text": [
      "The time to import state senate districts is: 0.01159366766611735 mins\n"
     ]
    }
   ],
   "source": [
    "start_time = time.time()\n",
    "sen_df = gpd.read_file(\"./Adopted VA SLDU 2021/SCV FINAL SD.shp\")\n",
    "end_time = time.time()\n",
    "print(\"The time to import state senate districts is:\",\n",
    "      (end_time-start_time)/60, \"mins\")"
   ]
  },
  {
   "cell_type": "code",
   "execution_count": 8,
   "id": "aa7ce1de-6b31-4895-ba0f-468f403f5162",
   "metadata": {},
   "outputs": [
    {
     "data": {
      "text/plain": [
       "(40, 4)"
      ]
     },
     "execution_count": 8,
     "metadata": {},
     "output_type": "execute_result"
    }
   ],
   "source": [
    "sen_df.shape"
   ]
  },
  {
   "cell_type": "code",
   "execution_count": 9,
   "id": "826c58e6-d19e-44db-acff-dd7029a0bdf0",
   "metadata": {},
   "outputs": [
    {
     "name": "stdout",
     "output_type": "stream",
     "text": [
      "['STATEFP20', 'COUNTYFP20', 'TRACTCE20', 'BLOCKCE20', 'GEOID20', 'NAME20', 'MTFCC20', 'FUNCSTAT20', 'ALAND20', 'AWATER20', 'INTPTLAT20', 'INTPTLON20', 'FILEID', 'STUSAB', 'SUMLEV', 'GEOVAR', 'GEOCOMP', 'CHARITER', 'LOGRECNO', 'GEOID', 'GEOCODE', 'REGION', 'DIVISION', 'STATE', 'STATENS', 'COUNTY', 'COUNTYCC', 'COUNTYNS', 'COUSUB', 'COUSUBCC', 'COUSUBNS', 'CONCIT', 'CONCITCC', 'CONCITNS', 'PLACE', 'PLACECC', 'PLACENS', 'TRACT', 'BLKGRP', 'BLOCK', 'AIANHH', 'AIHHTLI', 'AIANHHFP', 'AIANHHCC', 'AIANHHNS', 'AITS', 'AITSFP', 'AITSCC', 'AITSNS', 'TTRACT', 'TBLKGRP', 'ANRC', 'ANRCCC', 'ANRCNS', 'CBSA', 'MEMI', 'CSA', 'METDIV', 'NECTA', 'NMEMI', 'CNECTA', 'NECTADIV', 'CBSAPCI', 'NECTAPCI', 'CD116', 'SLDU18', 'SLDL18', 'VTD', 'VTDI', 'SDELM', 'SDSEC', 'SDUNI', 'AREALAND', 'AREAWATR', 'BASENAME', 'NAME', 'FUNCSTAT', 'POP100', 'HU100', 'INTPTLAT', 'INTPTLON', 'LSADC', 'UGA', 'P0010001', 'P0010002', 'P0010003', 'P0010004', 'P0010005', 'P0010006', 'P0010007', 'P0010008', 'P0010009', 'P0010010', 'P0010011', 'P0010012', 'P0010013', 'P0010014', 'P0010015', 'P0010016', 'P0010017', 'P0010018', 'P0010019', 'P0010020', 'P0010021', 'P0010022', 'P0010023', 'P0010024', 'P0010025', 'P0010026', 'P0010027', 'P0010028', 'P0010029', 'P0010030', 'P0010031', 'P0010032', 'P0010033', 'P0010034', 'P0010035', 'P0010036', 'P0010037', 'P0010038', 'P0010039', 'P0010040', 'P0010041', 'P0010042', 'P0010043', 'P0010044', 'P0010045', 'P0010046', 'P0010047', 'P0010048', 'P0010049', 'P0010050', 'P0010051', 'P0010052', 'P0010053', 'P0010054', 'P0010055', 'P0010056', 'P0010057', 'P0010058', 'P0010059', 'P0010060', 'P0010061', 'P0010062', 'P0010063', 'P0010064', 'P0010065', 'P0010066', 'P0010067', 'P0010068', 'P0010069', 'P0010070', 'P0010071', 'P0020001', 'P0020002', 'P0020003', 'P0020004', 'P0020005', 'P0020006', 'P0020007', 'P0020008', 'P0020009', 'P0020010', 'P0020011', 'P0020012', 'P0020013', 'P0020014', 'P0020015', 'P0020016', 'P0020017', 'P0020018', 'P0020019', 'P0020020', 'P0020021', 'P0020022', 'P0020023', 'P0020024', 'P0020025', 'P0020026', 'P0020027', 'P0020028', 'P0020029', 'P0020030', 'P0020031', 'P0020032', 'P0020033', 'P0020034', 'P0020035', 'P0020036', 'P0020037', 'P0020038', 'P0020039', 'P0020040', 'P0020041', 'P0020042', 'P0020043', 'P0020044', 'P0020045', 'P0020046', 'P0020047', 'P0020048', 'P0020049', 'P0020050', 'P0020051', 'P0020052', 'P0020053', 'P0020054', 'P0020055', 'P0020056', 'P0020057', 'P0020058', 'P0020059', 'P0020060', 'P0020061', 'P0020062', 'P0020063', 'P0020064', 'P0020065', 'P0020066', 'P0020067', 'P0020068', 'P0020069', 'P0020070', 'P0020071', 'P0020072', 'P0020073', 'P0030001', 'P0030002', 'P0030003', 'P0030004', 'P0030005', 'P0030006', 'P0030007', 'P0030008', 'P0030009', 'P0030010', 'P0030011', 'P0030012', 'P0030013', 'P0030014', 'P0030015', 'P0030016', 'P0030017', 'P0030018', 'P0030019', 'P0030020', 'P0030021', 'P0030022', 'P0030023', 'P0030024', 'P0030025', 'P0030026', 'P0030027', 'P0030028', 'P0030029', 'P0030030', 'P0030031', 'P0030032', 'P0030033', 'P0030034', 'P0030035', 'P0030036', 'P0030037', 'P0030038', 'P0030039', 'P0030040', 'P0030041', 'P0030042', 'P0030043', 'P0030044', 'P0030045', 'P0030046', 'P0030047', 'P0030048', 'P0030049', 'P0030050', 'P0030051', 'P0030052', 'P0030053', 'P0030054', 'P0030055', 'P0030056', 'P0030057', 'P0030058', 'P0030059', 'P0030060', 'P0030061', 'P0030062', 'P0030063', 'P0030064', 'P0030065', 'P0030066', 'P0030067', 'P0030068', 'P0030069', 'P0030070', 'P0030071', 'P0040001', 'P0040002', 'P0040003', 'P0040004', 'P0040005', 'P0040006', 'P0040007', 'P0040008', 'P0040009', 'P0040010', 'P0040011', 'P0040012', 'P0040013', 'P0040014', 'P0040015', 'P0040016', 'P0040017', 'P0040018', 'P0040019', 'P0040020', 'P0040021', 'P0040022', 'P0040023', 'P0040024', 'P0040025', 'P0040026', 'P0040027', 'P0040028', 'P0040029', 'P0040030', 'P0040031', 'P0040032', 'P0040033', 'P0040034', 'P0040035', 'P0040036', 'P0040037', 'P0040038', 'P0040039', 'P0040040', 'P0040041', 'P0040042', 'P0040043', 'P0040044', 'P0040045', 'P0040046', 'P0040047', 'P0040048', 'P0040049', 'P0040050', 'P0040051', 'P0040052', 'P0040053', 'P0040054', 'P0040055', 'P0040056', 'P0040057', 'P0040058', 'P0040059', 'P0040060', 'P0040061', 'P0040062', 'P0040063', 'P0040064', 'P0040065', 'P0040066', 'P0040067', 'P0040068', 'P0040069', 'P0040070', 'P0040071', 'P0040072', 'P0040073', 'H0010001', 'H0010002', 'H0010003', 'P0050001', 'P0050002', 'P0050003', 'P0050004', 'P0050005', 'P0050006', 'P0050007', 'P0050008', 'P0050009', 'P0050010', 'geometry']\n"
     ]
    }
   ],
   "source": [
    "print(list(population_df.columns))"
   ]
  },
  {
   "cell_type": "code",
   "execution_count": 10,
   "id": "14cda881-5c15-4083-8eb0-b703674d80b7",
   "metadata": {},
   "outputs": [
    {
     "name": "stdout",
     "output_type": "stream",
     "text": [
      "Index(['COUNTYFP', 'LOCALITY', 'VTDST', 'PRECINCT', 'G20PREDBID', 'G20PRERTRU',\n",
      "       'G20PRELJOR', 'G20PREOWRI', 'G20USSDWAR', 'G20USSRGAD', 'G20USSOWRI',\n",
      "       'geometry'],\n",
      "      dtype='object')\n"
     ]
    }
   ],
   "source": [
    "print(vest20_df.columns)"
   ]
  },
  {
   "cell_type": "code",
   "execution_count": 11,
   "id": "b60d1672-0124-486f-a9d5-cb5e09719b25",
   "metadata": {},
   "outputs": [
    {
     "name": "stdout",
     "output_type": "stream",
     "text": [
      "['STATEFP20', 'COUNTYFP20', 'COUNTYNS20', 'GEOID20', 'NAME20', 'NAMELSAD20', 'LSAD20', 'CLASSFP20', 'MTFCC20', 'CSAFP20', 'CBSAFP20', 'METDIVFP20', 'FUNCSTAT20', 'ALAND20', 'AWATER20', 'INTPTLAT20', 'INTPTLON20', 'FILEID', 'STUSAB', 'SUMLEV', 'GEOVAR', 'GEOCOMP', 'CHARITER', 'LOGRECNO', 'GEOID', 'GEOCODE', 'REGION', 'DIVISION', 'STATE', 'STATENS', 'COUNTY', 'COUNTYCC', 'COUNTYNS', 'CBSA', 'MEMI', 'CSA', 'METDIV', 'AREALAND', 'AREAWATR', 'BASENAME', 'NAME', 'FUNCSTAT', 'POP100', 'HU100', 'INTPTLAT', 'INTPTLON', 'LSADC', 'P0010001', 'P0010002', 'P0010003', 'P0010004', 'P0010005', 'P0010006', 'P0010007', 'P0010008', 'P0010009', 'P0010010', 'P0010011', 'P0010012', 'P0010013', 'P0010014', 'P0010015', 'P0010016', 'P0010017', 'P0010018', 'P0010019', 'P0010020', 'P0010021', 'P0010022', 'P0010023', 'P0010024', 'P0010025', 'P0010026', 'P0010027', 'P0010028', 'P0010029', 'P0010030', 'P0010031', 'P0010032', 'P0010033', 'P0010034', 'P0010035', 'P0010036', 'P0010037', 'P0010038', 'P0010039', 'P0010040', 'P0010041', 'P0010042', 'P0010043', 'P0010044', 'P0010045', 'P0010046', 'P0010047', 'P0010048', 'P0010049', 'P0010050', 'P0010051', 'P0010052', 'P0010053', 'P0010054', 'P0010055', 'P0010056', 'P0010057', 'P0010058', 'P0010059', 'P0010060', 'P0010061', 'P0010062', 'P0010063', 'P0010064', 'P0010065', 'P0010066', 'P0010067', 'P0010068', 'P0010069', 'P0010070', 'P0010071', 'P0020001', 'P0020002', 'P0020003', 'P0020004', 'P0020005', 'P0020006', 'P0020007', 'P0020008', 'P0020009', 'P0020010', 'P0020011', 'P0020012', 'P0020013', 'P0020014', 'P0020015', 'P0020016', 'P0020017', 'P0020018', 'P0020019', 'P0020020', 'P0020021', 'P0020022', 'P0020023', 'P0020024', 'P0020025', 'P0020026', 'P0020027', 'P0020028', 'P0020029', 'P0020030', 'P0020031', 'P0020032', 'P0020033', 'P0020034', 'P0020035', 'P0020036', 'P0020037', 'P0020038', 'P0020039', 'P0020040', 'P0020041', 'P0020042', 'P0020043', 'P0020044', 'P0020045', 'P0020046', 'P0020047', 'P0020048', 'P0020049', 'P0020050', 'P0020051', 'P0020052', 'P0020053', 'P0020054', 'P0020055', 'P0020056', 'P0020057', 'P0020058', 'P0020059', 'P0020060', 'P0020061', 'P0020062', 'P0020063', 'P0020064', 'P0020065', 'P0020066', 'P0020067', 'P0020068', 'P0020069', 'P0020070', 'P0020071', 'P0020072', 'P0020073', 'P0030001', 'P0030002', 'P0030003', 'P0030004', 'P0030005', 'P0030006', 'P0030007', 'P0030008', 'P0030009', 'P0030010', 'P0030011', 'P0030012', 'P0030013', 'P0030014', 'P0030015', 'P0030016', 'P0030017', 'P0030018', 'P0030019', 'P0030020', 'P0030021', 'P0030022', 'P0030023', 'P0030024', 'P0030025', 'P0030026', 'P0030027', 'P0030028', 'P0030029', 'P0030030', 'P0030031', 'P0030032', 'P0030033', 'P0030034', 'P0030035', 'P0030036', 'P0030037', 'P0030038', 'P0030039', 'P0030040', 'P0030041', 'P0030042', 'P0030043', 'P0030044', 'P0030045', 'P0030046', 'P0030047', 'P0030048', 'P0030049', 'P0030050', 'P0030051', 'P0030052', 'P0030053', 'P0030054', 'P0030055', 'P0030056', 'P0030057', 'P0030058', 'P0030059', 'P0030060', 'P0030061', 'P0030062', 'P0030063', 'P0030064', 'P0030065', 'P0030066', 'P0030067', 'P0030068', 'P0030069', 'P0030070', 'P0030071', 'P0040001', 'P0040002', 'P0040003', 'P0040004', 'P0040005', 'P0040006', 'P0040007', 'P0040008', 'P0040009', 'P0040010', 'P0040011', 'P0040012', 'P0040013', 'P0040014', 'P0040015', 'P0040016', 'P0040017', 'P0040018', 'P0040019', 'P0040020', 'P0040021', 'P0040022', 'P0040023', 'P0040024', 'P0040025', 'P0040026', 'P0040027', 'P0040028', 'P0040029', 'P0040030', 'P0040031', 'P0040032', 'P0040033', 'P0040034', 'P0040035', 'P0040036', 'P0040037', 'P0040038', 'P0040039', 'P0040040', 'P0040041', 'P0040042', 'P0040043', 'P0040044', 'P0040045', 'P0040046', 'P0040047', 'P0040048', 'P0040049', 'P0040050', 'P0040051', 'P0040052', 'P0040053', 'P0040054', 'P0040055', 'P0040056', 'P0040057', 'P0040058', 'P0040059', 'P0040060', 'P0040061', 'P0040062', 'P0040063', 'P0040064', 'P0040065', 'P0040066', 'P0040067', 'P0040068', 'P0040069', 'P0040070', 'P0040071', 'P0040072', 'P0040073', 'H0010001', 'H0010002', 'H0010003', 'P0050001', 'P0050002', 'P0050003', 'P0050004', 'P0050005', 'P0050006', 'P0050007', 'P0050008', 'P0050009', 'P0050010', 'geometry']\n"
     ]
    }
   ],
   "source": [
    "print(list(county_df.columns))"
   ]
  },
  {
   "cell_type": "code",
   "execution_count": 12,
   "id": "7a124f05-23ff-407e-a14a-e4f9e86d9d0e",
   "metadata": {},
   "outputs": [
    {
     "name": "stdout",
     "output_type": "stream",
     "text": [
      "Index(['ID', 'DISTRICT', 'DISTRICTN', 'geometry'], dtype='object')\n"
     ]
    }
   ],
   "source": [
    "print(sen_df.columns)"
   ]
  },
  {
   "cell_type": "code",
   "execution_count": 13,
   "id": "54a9d307-4479-48f0-8948-bef2d18a61c4",
   "metadata": {},
   "outputs": [
    {
     "name": "stdout",
     "output_type": "stream",
     "text": [
      "   ID DISTRICT  DISTRICTN                                           geometry\n",
      "0   1        1          1  POLYGON ((-78.64177 38.60472, -78.64941 38.610...\n",
      "1   2        2          2  POLYGON ((-79.72027 37.86768, -79.72046 37.867...\n",
      "2   3        3          3  POLYGON ((-80.20312 37.24487, -80.20325 37.245...\n",
      "3   4        4          4  POLYGON ((-80.41273 37.02407, -80.41271 37.024...\n",
      "4   5        5          5  POLYGON ((-81.62818 36.65158, -81.63004 36.655...\n"
     ]
    }
   ],
   "source": [
    "print(sen_df.head())"
   ]
  },
  {
   "cell_type": "markdown",
   "id": "cf3341d9-c44a-48ed-91bc-82e659cd868e",
   "metadata": {},
   "source": [
    "## Columns for Census Data"
   ]
  },
  {
   "cell_type": "code",
   "execution_count": 14,
   "id": "056f9e25-df4c-4d43-b005-ae7872373942",
   "metadata": {},
   "outputs": [],
   "source": [
    "district_col_name = \"DISTRICT\""
   ]
  },
  {
   "cell_type": "markdown",
   "id": "8d38c36f-513f-458b-bbb2-fb1ccecc1dc6",
   "metadata": {},
   "source": [
    "## Clean the Data"
   ]
  },
  {
   "cell_type": "code",
   "execution_count": 15,
   "id": "a078fabc-ee85-4992-a077-18ee77928b09",
   "metadata": {},
   "outputs": [],
   "source": [
    "population_df = population_df.to_crs(population_df.estimate_utm_crs())\n",
    "county_df = county_df.to_crs(county_df.estimate_utm_crs())\n",
    "sen_df = sen_df.to_crs(sen_df.estimate_utm_crs())\n",
    "vest20_df = vest20_df.to_crs(vest20_df.estimate_utm_crs())"
   ]
  },
  {
   "cell_type": "code",
   "execution_count": 16,
   "id": "95629cc6-83ac-4ecc-b0c8-29eb23685a43",
   "metadata": {},
   "outputs": [
    {
     "name": "stderr",
     "output_type": "stream",
     "text": [
      "100%|██████████████████████████████████| 163491/163491 [03:00<00:00, 904.49it/s]\n"
     ]
    },
    {
     "data": {
      "text/plain": [
       "True"
      ]
     },
     "execution_count": 16,
     "metadata": {},
     "output_type": "execute_result"
    }
   ],
   "source": [
    "maup.doctor(population_df)"
   ]
  },
  {
   "cell_type": "code",
   "execution_count": 17,
   "id": "4d04bf2f-4fe4-4fc4-b7bf-e1a99b0b7f42",
   "metadata": {},
   "outputs": [
    {
     "name": "stderr",
     "output_type": "stream",
     "text": [
      "100%|████████████████████████████████████████| 133/133 [00:01<00:00, 116.81it/s]\n"
     ]
    },
    {
     "data": {
      "text/plain": [
       "True"
      ]
     },
     "execution_count": 17,
     "metadata": {},
     "output_type": "execute_result"
    }
   ],
   "source": [
    "maup.doctor(county_df)"
   ]
  },
  {
   "cell_type": "code",
   "execution_count": 18,
   "id": "c45e1546-3a7a-4128-a7ed-3b4e697803ee",
   "metadata": {},
   "outputs": [
    {
     "name": "stderr",
     "output_type": "stream",
     "text": [
      "100%|███████████████████████████████████████████| 40/40 [00:00<00:00, 57.13it/s]\n"
     ]
    },
    {
     "data": {
      "text/plain": [
       "True"
      ]
     },
     "execution_count": 18,
     "metadata": {},
     "output_type": "execute_result"
    }
   ],
   "source": [
    "maup.doctor(sen_df)"
   ]
  },
  {
   "cell_type": "code",
   "execution_count": 19,
   "id": "b7a39053-4951-4a39-b637-b988cb50ba3c",
   "metadata": {},
   "outputs": [
    {
     "name": "stderr",
     "output_type": "stream",
     "text": [
      "100%|██████████████████████████████████████| 2477/2477 [00:06<00:00, 372.16it/s]\n"
     ]
    },
    {
     "name": "stdout",
     "output_type": "stream",
     "text": [
      "There are 82 overlaps.\n",
      "There are 553 holes.\n"
     ]
    },
    {
     "data": {
      "text/plain": [
       "False"
      ]
     },
     "execution_count": 19,
     "metadata": {},
     "output_type": "execute_result"
    }
   ],
   "source": [
    "maup.doctor(vest20_df)"
   ]
  },
  {
   "cell_type": "markdown",
   "id": "208d2208-33ba-4e51-88e6-a53a84284c53",
   "metadata": {},
   "source": [
    "## We need to do smart repair with our 2020 election data"
   ]
  },
  {
   "cell_type": "code",
   "execution_count": 20,
   "id": "726e0d1f-1df3-4439-9407-21815caa3835",
   "metadata": {},
   "outputs": [
    {
     "name": "stderr",
     "output_type": "stream",
     "text": [
      "100%|████████████████████████████████████████| 133/133 [00:01<00:00, 110.69it/s]\n"
     ]
    },
    {
     "name": "stdout",
     "output_type": "stream",
     "text": [
      "Snapping all geometries to a grid with precision 10^( -5 ) to avoid GEOS errors.\n"
     ]
    },
    {
     "name": "stderr",
     "output_type": "stream",
     "text": [
      "100%|█████████████████████████████████████████| 133/133 [00:02<00:00, 50.76it/s]\n",
      "100%|████████████████████████████████████████| 133/133 [00:00<00:00, 288.00it/s]\n"
     ]
    },
    {
     "name": "stdout",
     "output_type": "stream",
     "text": [
      "Identifying overlaps...\n"
     ]
    },
    {
     "name": "stderr",
     "output_type": "stream",
     "text": [
      "100%|██████████████████████████████████████| 2786/2786 [00:05<00:00, 528.64it/s]\n"
     ]
    },
    {
     "name": "stdout",
     "output_type": "stream",
     "text": [
      "Resolving overlaps and filling gaps...\n"
     ]
    },
    {
     "name": "stderr",
     "output_type": "stream",
     "text": [
      "100%|█████████████████████████████████████████| 133/133 [00:02<00:00, 50.72it/s]\n",
      "100%|████████████████████████████████████████| 133/133 [00:00<00:00, 272.11it/s]\n",
      "Gaps to simplify: 0it [00:00, ?it/s]\n",
      "Gaps to fill: 0it [00:00, ?it/s]\n",
      "Gaps to simplify: 0it [00:00, ?it/s]\n",
      "Gaps to fill: 0it [00:00, ?it/s]\n",
      "Gaps to simplify in region 2: 100%|███████████████| 2/2 [00:02<00:00,  1.09s/it]\n",
      "Gaps to fill: 0it [00:00, ?it/s]\n",
      "Gaps to simplify in region 3: 100%|███████████████| 1/1 [00:00<00:00, 27.60it/s]\n"
     ]
    },
    {
     "name": "stdout",
     "output_type": "stream",
     "text": [
      "Found a component of the region at index 3 that does not intersect any geometry assigned to that region.\n"
     ]
    },
    {
     "name": "stderr",
     "output_type": "stream",
     "text": [
      "Gaps to fill: 0it [00:00, ?it/s]\n",
      "Gaps to simplify in region 4: 100%|███████████████| 1/1 [00:00<00:00, 46.38it/s]\n",
      "Gaps to fill: 0it [00:00, ?it/s]\n",
      "Gaps to simplify: 0it [00:00, ?it/s]\n",
      "Gaps to fill: 0it [00:00, ?it/s]\n",
      "Gaps to simplify: 0it [00:00, ?it/s]\n",
      "Gaps to fill: 0it [00:00, ?it/s]\n",
      "Gaps to simplify in region 7: 100%|███████████████| 1/1 [00:00<00:00, 59.72it/s]\n",
      "Gaps to fill: 0it [00:00, ?it/s]\n",
      "Gaps to simplify: 0it [00:00, ?it/s]\n",
      "Gaps to fill: 0it [00:00, ?it/s]\n",
      "Gaps to simplify in region 9: 100%|███████████████| 1/1 [00:00<00:00, 27.81it/s]\n",
      "Gaps to fill: 0it [00:00, ?it/s]\n",
      "Gaps to simplify in region 10: 100%|██████████████| 3/3 [00:00<00:00, 35.11it/s]\n",
      "Gaps to fill: 0it [00:00, ?it/s]\n",
      "Gaps to simplify: 0it [00:00, ?it/s]\n",
      "Gaps to fill: 0it [00:00, ?it/s]\n",
      "Gaps to simplify: 0it [00:00, ?it/s]\n",
      "Gaps to fill: 0it [00:00, ?it/s]\n",
      "Gaps to simplify in region 13: 100%|██████████████| 1/1 [00:00<00:00, 50.24it/s]\n",
      "Gaps to fill: 0it [00:00, ?it/s]\n",
      "Gaps to simplify in region 14: 100%|██████████████| 2/2 [00:00<00:00, 32.52it/s]\n",
      "Gaps to fill: 0it [00:00, ?it/s]\n",
      "Gaps to simplify in region 15: 100%|██████████████| 6/6 [00:00<00:00, 24.26it/s]\n",
      "Gaps to fill: 0it [00:00, ?it/s]\n",
      "Gaps to simplify: 0it [00:00, ?it/s]\n",
      "Gaps to fill: 0it [00:00, ?it/s]\n",
      "Gaps to simplify: 0it [00:00, ?it/s]\n",
      "Gaps to fill: 0it [00:00, ?it/s]\n",
      "Gaps to simplify: 0it [00:00, ?it/s]\n",
      "Gaps to fill: 0it [00:00, ?it/s]\n",
      "Gaps to simplify in region 19: 100%|██████████████| 4/4 [00:00<00:00, 27.23it/s]\n",
      "Gaps to fill: 0it [00:00, ?it/s]\n",
      "Gaps to simplify: 0it [00:00, ?it/s]\n",
      "Gaps to fill: 0it [00:00, ?it/s]\n",
      "Gaps to simplify in region 21: 100%|██████████████| 1/1 [00:00<00:00, 24.72it/s]\n",
      "Gaps to fill: 0it [00:00, ?it/s]\n",
      "Gaps to simplify in region 22: 100%|██████████████| 2/2 [00:00<00:00, 49.28it/s]\n",
      "Gaps to fill: 0it [00:00, ?it/s]\n",
      "Gaps to simplify: 0it [00:00, ?it/s]\n",
      "Gaps to fill: 0it [00:00, ?it/s]\n",
      "Gaps to simplify in region 24: 100%|██████████████| 2/2 [00:00<00:00, 15.42it/s]\n",
      "Gaps to fill: 0it [00:00, ?it/s]\n",
      "Gaps to simplify: 0it [00:00, ?it/s]\n",
      "Gaps to fill: 0it [00:00, ?it/s]\n",
      "Gaps to simplify in region 26: 100%|██████████████| 1/1 [00:00<00:00, 30.79it/s]\n",
      "Gaps to fill: 0it [00:00, ?it/s]\n",
      "Gaps to simplify: 0it [00:00, ?it/s]\n",
      "Gaps to fill: 0it [00:00, ?it/s]\n",
      "Gaps to simplify in region 28: 100%|██████████████| 1/1 [00:00<00:00, 49.67it/s]\n",
      "Gaps to fill: 0it [00:00, ?it/s]\n",
      "Gaps to simplify: 0it [00:00, ?it/s]\n",
      "Gaps to fill: 0it [00:00, ?it/s]\n",
      "Gaps to simplify in region 30: 100%|██████████████| 1/1 [00:00<00:00, 18.63it/s]\n",
      "Gaps to fill: 0it [00:00, ?it/s]\n",
      "Gaps to simplify in region 31: 100%|██████████████| 2/2 [00:00<00:00, 20.49it/s]\n",
      "Gaps to fill in region 31: 100%|██████████████████| 1/1 [00:00<00:00, 17.94it/s]\n",
      "Gaps to simplify in region 32: 100%|██████████████| 7/7 [00:00<00:00, 26.50it/s]\n",
      "Gaps to fill in region 32: 100%|██████████████████| 1/1 [00:00<00:00, 28.98it/s]\n",
      "Gaps to simplify in region 33: 100%|██████████████| 4/4 [00:00<00:00, 45.61it/s]\n",
      "Gaps to fill: 0it [00:00, ?it/s]\n",
      "Gaps to simplify: 0it [00:00, ?it/s]\n",
      "Gaps to fill: 0it [00:00, ?it/s]\n",
      "Gaps to simplify in region 35: 100%|████████████| 29/29 [00:01<00:00, 26.86it/s]\n",
      "Gaps to fill in region 35: 100%|██████████████████| 1/1 [00:00<00:00, 13.00it/s]\n",
      "Gaps to simplify: 0it [00:00, ?it/s]\n",
      "Gaps to fill: 0it [00:00, ?it/s]\n",
      "Gaps to simplify in region 37: 100%|██████████████| 2/2 [00:00<00:00, 21.45it/s]\n",
      "Gaps to fill in region 37: 100%|██████████████████| 1/1 [00:00<00:00, 15.47it/s]\n",
      "Gaps to simplify: 0it [00:00, ?it/s]\n",
      "Gaps to fill: 0it [00:00, ?it/s]\n",
      "Gaps to simplify in region 39: 100%|██████████████| 1/1 [00:00<00:00,  2.57it/s]\n",
      "Gaps to fill: 0it [00:00, ?it/s]\n",
      "Gaps to simplify in region 40: 100%|████████████| 15/15 [00:00<00:00, 22.36it/s]\n",
      "Gaps to fill: 0it [00:00, ?it/s]\n",
      "Gaps to simplify in region 41: 100%|██████████████| 1/1 [00:00<00:00, 22.36it/s]\n",
      "Gaps to fill: 0it [00:00, ?it/s]\n",
      "Gaps to simplify in region 42: 100%|██████████████| 1/1 [00:00<00:00, 29.10it/s]\n",
      "Gaps to fill: 0it [00:00, ?it/s]\n",
      "Gaps to simplify: 0it [00:00, ?it/s]\n",
      "Gaps to fill: 0it [00:00, ?it/s]\n",
      "Gaps to simplify in region 44: 100%|██████████████| 8/8 [00:00<00:00, 32.87it/s]\n",
      "Gaps to fill: 0it [00:00, ?it/s]\n",
      "Gaps to simplify in region 45: 100%|██████████████| 1/1 [00:00<00:00, 36.20it/s]\n",
      "Gaps to fill: 0it [00:00, ?it/s]\n",
      "Gaps to simplify: 0it [00:00, ?it/s]\n",
      "Gaps to fill: 0it [00:00, ?it/s]\n",
      "Gaps to simplify: 0it [00:00, ?it/s]\n",
      "Gaps to fill: 0it [00:00, ?it/s]\n",
      "Gaps to simplify in region 48: 100%|██████████████| 4/4 [00:00<00:00, 52.75it/s]\n",
      "Gaps to fill: 0it [00:00, ?it/s]\n",
      "Gaps to simplify: 0it [00:00, ?it/s]\n",
      "Gaps to fill: 0it [00:00, ?it/s]\n",
      "Gaps to simplify in region 50: 100%|██████████████| 2/2 [00:00<00:00, 25.33it/s]\n",
      "Gaps to fill: 0it [00:00, ?it/s]\n",
      "Gaps to simplify: 0it [00:00, ?it/s]\n",
      "Gaps to fill: 0it [00:00, ?it/s]\n",
      "Gaps to simplify: 0it [00:00, ?it/s]\n",
      "Gaps to fill: 0it [00:00, ?it/s]\n",
      "Gaps to simplify in region 53: 100%|██████████████| 3/3 [00:00<00:00, 26.18it/s]\n",
      "Gaps to fill: 0it [00:00, ?it/s]\n",
      "Gaps to simplify in region 54: 100%|██████████████| 1/1 [00:00<00:00, 68.02it/s]\n",
      "Gaps to fill: 0it [00:00, ?it/s]\n",
      "Gaps to simplify in region 55: 100%|██████████████| 1/1 [00:00<00:00, 10.98it/s]\n",
      "Gaps to fill: 0it [00:00, ?it/s]\n",
      "Gaps to simplify: 0it [00:00, ?it/s]\n",
      "Gaps to fill: 0it [00:00, ?it/s]\n",
      "Gaps to simplify: 0it [00:00, ?it/s]\n",
      "Gaps to fill: 0it [00:00, ?it/s]\n",
      "Gaps to simplify: 0it [00:00, ?it/s]\n",
      "Gaps to fill: 0it [00:00, ?it/s]\n",
      "Gaps to simplify in region 59: 100%|██████████████| 2/2 [00:00<00:00,  3.85it/s]\n",
      "Gaps to fill in region 59: 100%|██████████████████| 1/1 [00:00<00:00,  1.93it/s]\n",
      "Gaps to simplify in region 60: 100%|██████████████| 1/1 [00:00<00:00, 57.54it/s]\n",
      "Gaps to fill: 0it [00:00, ?it/s]\n",
      "Gaps to simplify in region 61: 100%|██████████████| 2/2 [00:00<00:00, 38.92it/s]\n",
      "Gaps to fill in region 61: 100%|██████████████████| 1/1 [00:00<00:00, 24.60it/s]\n",
      "Gaps to simplify in region 62: 100%|██████████████| 2/2 [00:00<00:00, 68.33it/s]\n",
      "Gaps to fill: 0it [00:00, ?it/s]\n",
      "Gaps to simplify: 0it [00:00, ?it/s]\n",
      "Gaps to fill: 0it [00:00, ?it/s]\n",
      "Gaps to simplify: 0it [00:00, ?it/s]\n",
      "Gaps to fill: 0it [00:00, ?it/s]\n",
      "Gaps to simplify: 0it [00:00, ?it/s]\n",
      "Gaps to fill: 0it [00:00, ?it/s]\n",
      "Gaps to simplify in region 66: 100%|██████████████| 5/5 [00:00<00:00, 25.26it/s]\n",
      "Gaps to fill in region 66: 100%|██████████████████| 2/2 [00:00<00:00, 14.52it/s]\n",
      "Gaps to simplify: 0it [00:00, ?it/s]\n",
      "Gaps to fill: 0it [00:00, ?it/s]\n",
      "Gaps to simplify: 0it [00:00, ?it/s]\n",
      "Gaps to fill: 0it [00:00, ?it/s]\n",
      "Gaps to simplify: 0it [00:00, ?it/s]\n",
      "Gaps to fill: 0it [00:00, ?it/s]\n",
      "Gaps to simplify in region 70: 100%|██████████████| 2/2 [00:00<00:00, 64.65it/s]\n",
      "Gaps to fill: 0it [00:00, ?it/s]\n",
      "Gaps to simplify: 0it [00:00, ?it/s]\n",
      "Gaps to fill: 0it [00:00, ?it/s]\n",
      "Gaps to simplify in region 72: 100%|██████████████| 1/1 [00:00<00:00, 47.84it/s]\n",
      "Gaps to fill: 0it [00:00, ?it/s]\n",
      "Gaps to simplify in region 73: 100%|██████████████| 5/5 [00:00<00:00, 39.62it/s]\n",
      "Gaps to fill in region 73: 100%|██████████████████| 1/1 [00:00<00:00, 17.61it/s]\n",
      "Gaps to simplify in region 74: 100%|██████████████| 2/2 [00:00<00:00, 37.27it/s]\n",
      "Gaps to fill: 0it [00:00, ?it/s]\n",
      "Gaps to simplify: 0it [00:00, ?it/s]\n",
      "Gaps to fill: 0it [00:00, ?it/s]\n",
      "Gaps to simplify in region 76: 100%|██████████████| 1/1 [00:00<00:00, 17.10it/s]\n",
      "Gaps to fill: 0it [00:00, ?it/s]\n",
      "Gaps to simplify: 0it [00:00, ?it/s]\n",
      "Gaps to fill: 0it [00:00, ?it/s]\n",
      "Gaps to simplify in region 78: 100%|██████████████| 2/2 [00:00<00:00, 24.98it/s]\n",
      "Gaps to fill: 0it [00:00, ?it/s]\n",
      "Gaps to simplify: 0it [00:00, ?it/s]\n",
      "Gaps to fill: 0it [00:00, ?it/s]\n",
      "Gaps to simplify in region 80: 100%|██████████████| 9/9 [00:00<00:00, 50.76it/s]\n",
      "Gaps to fill: 0it [00:00, ?it/s]\n",
      "Gaps to simplify: 0it [00:00, ?it/s]\n",
      "Gaps to fill: 0it [00:00, ?it/s]\n",
      "Gaps to simplify: 0it [00:00, ?it/s]\n",
      "Gaps to fill: 0it [00:00, ?it/s]\n",
      "Gaps to simplify: 0it [00:00, ?it/s]\n",
      "Gaps to fill: 0it [00:00, ?it/s]\n",
      "Gaps to simplify in region 84: 100%|██████████████| 3/3 [00:00<00:00, 34.05it/s]\n",
      "Gaps to fill: 0it [00:00, ?it/s]\n",
      "Gaps to simplify: 0it [00:00, ?it/s]\n",
      "Gaps to fill: 0it [00:00, ?it/s]\n",
      "Gaps to simplify in region 86: 100%|██████████████| 3/3 [00:00<00:00, 32.86it/s]\n",
      "Gaps to fill: 0it [00:00, ?it/s]\n",
      "Gaps to simplify in region 87: 100%|██████████████| 3/3 [00:00<00:00, 60.19it/s]\n",
      "Gaps to fill: 0it [00:00, ?it/s]\n",
      "Gaps to simplify in region 88: 100%|██████████████| 6/6 [00:00<00:00, 35.12it/s]\n",
      "Gaps to fill: 0it [00:00, ?it/s]\n",
      "Gaps to simplify in region 89: 100%|██████████████| 1/1 [00:00<00:00, 13.50it/s]\n",
      "Gaps to fill: 0it [00:00, ?it/s]\n",
      "Gaps to simplify: 0it [00:00, ?it/s]\n",
      "Gaps to fill: 0it [00:00, ?it/s]\n",
      "Gaps to simplify: 0it [00:00, ?it/s]\n",
      "Gaps to fill: 0it [00:00, ?it/s]\n",
      "Gaps to simplify in region 92: 100%|██████████████| 1/1 [00:00<00:00, 59.32it/s]\n",
      "Gaps to fill: 0it [00:00, ?it/s]\n",
      "Gaps to simplify: 0it [00:00, ?it/s]\n",
      "Gaps to fill: 0it [00:00, ?it/s]\n",
      "Gaps to simplify: 0it [00:00, ?it/s]\n",
      "Gaps to fill: 0it [00:00, ?it/s]\n",
      "Gaps to simplify: 0it [00:00, ?it/s]\n",
      "Gaps to fill: 0it [00:00, ?it/s]\n",
      "Gaps to simplify in region 96: 100%|██████████████| 3/3 [00:00<00:00, 27.03it/s]\n",
      "Gaps to fill: 0it [00:00, ?it/s]\n",
      "Gaps to simplify: 0it [00:00, ?it/s]\n",
      "Gaps to fill: 0it [00:00, ?it/s]\n",
      "Gaps to simplify in region 98: 100%|██████████████| 1/1 [00:00<00:00, 11.36it/s]\n",
      "Gaps to fill: 0it [00:00, ?it/s]\n",
      "Gaps to simplify: 0it [00:00, ?it/s]\n",
      "Gaps to fill: 0it [00:00, ?it/s]\n",
      "Gaps to simplify in region 100: 100%|█████████████| 1/1 [00:00<00:00, 39.04it/s]\n",
      "Gaps to fill: 0it [00:00, ?it/s]\n",
      "Gaps to simplify in region 101: 100%|█████████████| 2/2 [00:00<00:00,  8.11it/s]\n",
      "Gaps to fill: 0it [00:00, ?it/s]\n",
      "Gaps to simplify: 0it [00:00, ?it/s]\n",
      "Gaps to fill: 0it [00:00, ?it/s]\n",
      "Gaps to simplify in region 103: 100%|█████████████| 3/3 [00:00<00:00,  6.57it/s]\n",
      "Gaps to fill: 0it [00:00, ?it/s]\n",
      "Gaps to simplify: 0it [00:00, ?it/s]\n",
      "Gaps to fill: 0it [00:00, ?it/s]\n",
      "Gaps to simplify: 0it [00:00, ?it/s]\n",
      "Gaps to fill: 0it [00:00, ?it/s]\n",
      "Gaps to simplify: 0it [00:00, ?it/s]\n",
      "Gaps to fill: 0it [00:00, ?it/s]\n",
      "Gaps to simplify in region 107: 100%|█████████████| 3/3 [00:00<00:00, 20.08it/s]\n",
      "Gaps to fill: 0it [00:00, ?it/s]\n",
      "Gaps to simplify: 0it [00:00, ?it/s]\n",
      "Gaps to fill: 0it [00:00, ?it/s]\n",
      "Gaps to simplify: 0it [00:00, ?it/s]\n",
      "Gaps to fill: 0it [00:00, ?it/s]\n",
      "Gaps to simplify: 0it [00:00, ?it/s]\n",
      "Gaps to fill: 0it [00:00, ?it/s]\n",
      "Gaps to simplify in region 111: 100%|█████████████| 5/5 [00:00<00:00, 10.86it/s]\n",
      "Gaps to fill: 0it [00:00, ?it/s]\n",
      "Gaps to simplify in region 112: 100%|█████████████| 3/3 [00:00<00:00, 24.97it/s]\n",
      "Gaps to fill: 0it [00:00, ?it/s]\n",
      "Gaps to simplify in region 113: 100%|█████████████| 1/1 [00:00<00:00, 24.80it/s]\n",
      "Gaps to fill: 0it [00:00, ?it/s]\n",
      "Gaps to simplify in region 114: 100%|█████████████| 2/2 [00:00<00:00, 28.05it/s]\n",
      "Gaps to fill: 0it [00:00, ?it/s]\n",
      "Gaps to simplify: 0it [00:00, ?it/s]\n",
      "Gaps to fill: 0it [00:00, ?it/s]\n",
      "Gaps to simplify in region 116: 100%|█████████████| 1/1 [00:00<00:00, 29.25it/s]\n",
      "Gaps to fill: 0it [00:00, ?it/s]\n",
      "Gaps to simplify: 0it [00:00, ?it/s]\n",
      "Gaps to fill: 0it [00:00, ?it/s]\n",
      "Gaps to simplify: 0it [00:00, ?it/s]\n",
      "Gaps to fill: 0it [00:00, ?it/s]\n",
      "Gaps to simplify: 0it [00:00, ?it/s]\n",
      "Gaps to fill: 0it [00:00, ?it/s]\n",
      "Gaps to simplify: 0it [00:00, ?it/s]\n",
      "Gaps to fill: 0it [00:00, ?it/s]\n",
      "Gaps to simplify: 0it [00:00, ?it/s]\n",
      "Gaps to fill: 0it [00:00, ?it/s]\n",
      "Gaps to simplify in region 122: 100%|█████████████| 4/4 [00:00<00:00, 19.30it/s]\n",
      "Gaps to fill: 0it [00:00, ?it/s]\n",
      "Gaps to simplify: 0it [00:00, ?it/s]\n",
      "Gaps to fill: 0it [00:00, ?it/s]\n",
      "Gaps to simplify: 0it [00:00, ?it/s]\n",
      "Gaps to fill: 0it [00:00, ?it/s]\n",
      "Gaps to simplify: 0it [00:00, ?it/s]\n",
      "Gaps to fill: 0it [00:00, ?it/s]\n",
      "Gaps to simplify in region 126: 100%|███████████| 10/10 [00:00<00:00, 10.62it/s]\n",
      "Gaps to fill in region 126: 100%|█████████████████| 1/1 [00:00<00:00,  5.55it/s]\n",
      "Gaps to simplify in region 127: 100%|█████████████| 1/1 [00:00<00:00, 27.27it/s]\n",
      "Gaps to fill: 0it [00:00, ?it/s]\n",
      "Gaps to simplify: 0it [00:00, ?it/s]\n",
      "Gaps to fill: 0it [00:00, ?it/s]\n",
      "Gaps to simplify: 0it [00:00, ?it/s]\n",
      "Gaps to fill: 0it [00:00, ?it/s]\n",
      "Gaps to simplify: 0it [00:00, ?it/s]\n",
      "Gaps to fill: 0it [00:00, ?it/s]\n",
      "Gaps to simplify: 0it [00:00, ?it/s]\n",
      "Gaps to fill: 0it [00:00, ?it/s]\n",
      "Gaps to simplify in region 132: 100%|█████████████| 1/1 [00:00<00:00, 35.50it/s]\n",
      "Gaps to fill: 0it [00:00, ?it/s]\n"
     ]
    }
   ],
   "source": [
    "final_df = smart_repair(vest20_df, nest_within_regions = county_df)"
   ]
  },
  {
   "cell_type": "code",
   "execution_count": 21,
   "id": "f3c52ae7-a153-4942-8fdc-6fe944af4532",
   "metadata": {},
   "outputs": [
    {
     "name": "stdout",
     "output_type": "stream",
     "text": [
      "[0.0, 0.0, 0.0, 0.0, 0.0, 0.0, 0.0, 0.0, 0.0, 0.0, 0.0, 0.0, 0.0, 0.0, 0.0, 0.0, 0.0, 0.0, 0.0, 0.0, 0.0, 0.0, 0.0, 0.0, 0.0, 0.0, 0.0, 0.0, 0.0, 0.0, 0.0, 0.0, 0.0, 0.0, 0.0, 0.0, 0.0, 0.0, 0.0, 0.0, 0.0, 0.0, 0.0, 0.0, 0.0, 0.0, 0.0, 0.0, 0.0, 0.0, 0.0, 0.0, 0.0, 0.0, 0.0, 0.0, 0.0, 0.0, 0.0, 0.0, 0.0, 0.0, 0.0, 0.0, 0.0, 0.0, 0.0, 0.0, 0.0, 0.0, 0.0, 0.0, 0.0, 0.0, 0.0, 0.0, 0.0, 0.0, 0.0, 0.0, 0.0, 0.0, 0.0, 0.0, 0.0, 0.0, 0.0, 0.0, 0.0, 0.0, 0.0, 0.0, 0.0, 0.0, 0.0, 0.0, 0.0, 0.0, 0.0, 0.0, 0.0, 0.0, 0.0, 0.0, 0.0, 0.0, 0.0, 0.0, 0.0, 0.0, 0.0, 0.0, 0.0, 0.0, 0.0, 0.0, 0.0, 0.0, 0.0, 0.0, 0.0, 0.0, 0.0, 0.0, 0.0, 0.0, 0.0, 0.0, 0.0, 0.0, 0.0, 0.0, 0.0, 0.0, 0.0, 0.0, 0.0, 0.0, 0.0, 0.0, 0.0, 0.0, 0.0, 0.0, 0.0, 0.0, 0.0, 0.0, 0.0, 0.0, 0.0, 0.0, 0.0, 0.0, 0.0, 0.0, 0.0, 0.0, 0.0, 0.0, 0.0, 0.0, 0.0, 0.0, 0.0, 0.0, 0.0, 0.0, 0.0, 0.0, 0.0, 0.0, 0.0, 0.0, 0.0, 0.0, 0.0, 0.0, 0.0, 0.0, 0.0, 0.0, 0.0, 0.0, 0.0, 0.0, 0.0, 0.0, 0.0, 0.0, 0.0, 0.0, 0.0, 0.0, 0.0, 0.0, 0.0, 0.0, 0.0, 0.0, 0.0, 0.0, 0.0, 0.0, 0.0, 0.0, 0.0, 0.0, 0.0, 0.0, 0.0, 0.0, 0.0, 0.0, 0.0, 0.0, 0.0, 0.0, 0.0, 0.0, 0.0, 0.0, 0.0, 0.0, 0.0, 0.0, 0.0, 0.0, 0.0, 0.0, 0.0, 0.0, 0.0, 0.0, 0.0, 0.0, 0.0, 0.0, 0.0, 0.0, 0.0, 0.0, 0.0, 0.0, 0.0, 0.0, 0.0, 0.0, 0.0, 0.0, 0.0, 0.0, 0.0, 0.0, 0.0, 0.0, 0.0, 0.0, 0.0, 0.0, 0.0, 0.0, 0.0, 0.0, 0.0, 0.0, 0.0, 0.0, 0.0, 0.0, 0.0, 0.0, 0.0, 0.0, 0.0, 0.0, 0.0, 0.0, 0.0, 0.0, 0.0, 0.0, 0.0, 0.0, 0.0, 0.0, 0.0, 0.0, 0.0, 0.0, 0.0, 0.0, 0.0, 0.0, 0.0, 0.0, 0.0, 0.0, 0.0, 0.0, 0.0, 0.0, 0.0, 0.0, 0.0, 0.0, 0.0, 0.0, 0.0, 0.0, 0.0, 0.0, 0.0, 0.0, 0.0, 0.0, 0.0, 0.0, 0.0, 0.0, 0.0, 0.0, 0.0, 0.0, 0.0, 0.0, 0.0, 0.0, 0.0, 0.0, 0.0, 0.0, 0.0, 0.0, 0.0, 0.0, 0.0, 0.0, 0.0, 0.0, 0.0, 0.0, 0.0, 0.0, 0.0, 0.0, 0.0, 0.0, 0.0, 0.0, 0.0, 0.0, 0.0, 0.0, 0.0, 0.0, 0.0, 0.0, 0.0, 0.0, 0.0, 0.0, 0.0, 0.0, 0.0, 0.0, 0.0, 0.0, 0.0, 0.0, 0.0, 0.0, 0.0, 0.0, 0.0, 0.0, 0.0, 0.0, 0.0, 0.0, 0.0, 0.0, 0.0, 0.0, 0.0, 0.0, 0.0, 0.0, 0.0, 0.0, 0.0, 0.0, 0.0, 0.0, 0.0, 0.0, 0.0, 0.0, 0.0, 0.0, 0.0, 0.0, 0.0, 0.0, 0.0, 0.0, 0.0, 0.0, 0.0, 0.0, 0.0, 0.0, 0.0, 0.0, 0.0, 0.0, 0.0, 0.0, 0.0, 0.0, 0.0, 0.0, 0.0, 0.0, 0.0, 0.0, 0.0, 0.0, 0.0, 0.0, 0.0, 0.0, 0.0, 0.0, 0.0, 0.0, 0.0, 0.0, 0.0, 0.0, 0.0, 0.0, 0.0, 0.0, 0.0, 0.0, 0.0, 0.0, 0.0, 0.0, 0.0, 0.0, 0.0, 0.0, 0.0, 0.0, 0.0, 0.0, 0.0, 0.0, 0.0, 0.0, 0.0, 0.0, 0.0, 0.0, 0.0, 0.0, 0.0, 0.0, 0.0, 0.0, 0.0, 0.0, 0.0, 0.0, 0.0, 0.0, 0.0, 0.0, 0.0, 0.0, 0.0, 0.0, 0.0, 0.0, 0.0, 0.0, 0.0, 0.0, 0.0, 0.0, 0.0, 0.0, 0.0, 0.0, 0.0, 0.0, 0.0, 0.0, 0.0, 0.0, 0.0, 0.0, 0.0, 0.0, 0.0, 0.0, 0.0, 0.0, 0.0, 0.0, 0.0, 0.0, 0.0, 0.0, 0.0, 0.0, 0.0, 0.0, 0.0, 0.0, 0.0, 0.0, 0.0, 0.0, 0.0, 0.0, 0.0, 0.0, 0.0, 0.0, 0.0, 0.0, 0.0, 0.0, 0.0, 0.0, 0.0, 0.0, 0.0, 0.0, 0.0, 0.0, 0.0, 0.0, 0.0, 0.0, 0.0, 0.0, 0.0, 0.0, 0.0, 0.0, 0.0, 0.0, 0.0, 0.0, 0.0, 0.0, 0.0, 0.0, 0.0, 0.0, 0.0, 0.0, 0.0, 0.0, 0.0, 0.0, 0.0, 0.0, 0.0, 0.0, 0.0, 0.0, 0.0, 0.0, 0.0, 0.0, 0.0, 0.0, 0.0, 0.0, 0.0, 0.0, 0.0, 0.0, 0.0, 0.0, 0.0, 0.0, 0.0, 0.0, 0.0, 0.0, 0.0, 0.0, 0.0, 0.0, 0.0, 0.0, 0.0, 0.0, 0.0, 0.0, 0.0, 0.0, 0.0, 0.0, 0.0, 0.0, 0.0, 0.0, 0.0, 0.0, 0.0, 0.0, 0.0, 0.0, 0.0, 0.0, 0.0, 0.0, 0.0, 0.0, 0.0, 0.0, 0.0, 0.0, 0.0, 0.0, 0.0, 0.0, 0.0, 0.0, 0.0, 0.0, 0.0, 0.0, 0.0, 0.0, 0.0, 0.0, 0.0, 0.0, 0.0, 0.0, 0.0, 0.0, 0.0, 0.0, 0.0, 0.0, 0.0, 0.0, 0.0, 0.0, 0.0, 0.0, 0.0, 0.0, 0.0, 0.0, 0.0, 0.0, 0.0, 0.0, 0.0, 0.0, 0.0, 0.0, 0.0, 0.0, 0.0, 0.0, 0.0, 0.0, 0.0, 0.0, 0.0, 0.0, 0.0, 0.0, 0.0, 0.0, 0.0, 0.0, 0.0, 0.0, 0.0, 0.0, 0.0, 0.0, 0.0, 0.0, 0.0, 0.0, 0.0, 0.0, 0.0, 0.0, 0.0, 0.0, 0.0, 0.0, 0.0, 0.0, 0.0, 0.0, 0.0, 0.0, 0.0, 0.0, 0.0, 0.0, 0.0, 0.0, 0.0, 0.0, 0.0, 0.0, 0.0, 0.0, 0.0, 0.0, 0.0, 0.0, 0.0, 0.0, 0.0, 0.0, 0.0, 0.0, 0.0, 0.0, 0.0, 0.0, 0.0, 0.0, 0.0, 0.0, 0.0, 0.0, 0.0, 0.0, 0.0, 0.0, 0.0, 0.0, 0.0, 0.0, 0.0, 0.0, 0.0, 0.0, 0.0, 0.0, 0.0, 0.0, 0.0, 0.0, 0.0, 0.0, 0.0, 0.0, 0.0, 0.0, 0.0, 0.0, 0.0, 0.0, 0.0, 0.0, 0.0, 0.0, 0.0, 0.0, 0.0, 0.0, 0.0, 0.0, 0.0, 0.0, 0.0, 0.0, 0.0, 0.0, 0.0, 0.0, 0.0, 0.0, 0.0, 0.0, 0.0, 0.0, 0.0, 0.0, 0.0, 0.0, 0.0, 0.0, 0.0, 0.0, 0.0, 0.0, 0.0, 0.0, 0.0, 0.0, 0.0, 0.0, 0.0, 0.0, 0.0, 0.0, 0.0, 0.0, 0.0, 0.0, 0.0, 0.0, 0.0, 0.0, 0.0, 0.0, 0.0, 0.0, 0.0, 0.0, 0.0, 0.0, 0.0, 0.0, 0.0, 0.0, 0.0, 0.0, 0.0, 0.0, 0.0, 0.0, 0.0, 0.0, 0.0, 0.0, 0.0, 0.0, 0.0, 0.0, 0.0, 0.0, 0.0, 0.0, 0.0, 0.0, 0.0, 0.0, 0.0, 0.0, 0.0, 0.0, 0.0, 0.0, 0.0, 0.0, 0.0, 0.0, 0.0, 0.0, 0.0, 0.0, 0.0, 0.0, 0.0, 0.0, 0.0, 0.0, 0.0, 0.0, 0.0, 0.0, 0.0, 0.0, 0.0, 0.0, 0.0, 0.0, 0.0, 0.0, 0.0, 0.0, 0.0, 0.0, 0.0, 0.0, 0.0, 0.0, 0.0, 0.0, 0.0, 0.0, 0.0, 0.0, 0.0, 0.0, 0.0, 0.0, 0.0, 0.0, 0.0, 0.0, 0.0, 0.0, 0.0, 0.0, 0.0, 0.0, 0.0, 0.0, 0.0, 0.0, 0.0, 0.0, 0.0, 0.0, 0.0, 0.0, 0.0, 0.0, 0.0, 0.0, 0.0, 0.0, 0.0, 0.0, 0.0, 0.0, 0.0, 0.0, 0.0, 0.0, 0.0, 0.0, 0.0, 0.0, 0.0, 0.0, 0.0, 0.0, 0.0, 0.0, 0.0, 0.0, 0.0, 0.0, 0.0, 0.0, 0.0, 0.0, 0.0, 0.0, 0.0, 0.0, 0.0, 0.0, 0.0, 0.0, 0.0, 0.0, 0.0, 0.0, 0.0, 0.0, 0.0, 0.0, 0.0, 0.0, 0.0, 0.0, 0.0, 0.0, 0.0, 0.0, 0.0, 0.0, 0.0, 0.0, 0.0, 0.0, 0.0, 0.0, 0.0, 0.0, 0.0, 0.0, 0.0, 0.0, 0.0, 0.0]\n"
     ]
    }
   ],
   "source": [
    "import copy\n",
    "boundaries = copy.deepcopy(final_df)\n",
    "boundaries[\"geometry\"] = boundaries.geometry.boundary  # get boundaries\n",
    "neighbors = gpd.sjoin(boundaries, final_df, predicate=\"intersects\") # find boundaries that intersect\n",
    "neighbors = neighbors[neighbors.index != neighbors.index_right] # remove boundaries of a region with itself\n",
    "\n",
    "# compute shared border length using intersection\n",
    "borders = list(neighbors.apply(\n",
    "    lambda row: row.geometry.intersection(boundaries.loc[row.index_right, \"geometry\"]).length, axis=1\n",
    "))\n",
    "\n",
    "borders.sort()\n",
    "print(borders[:1000])"
   ]
  },
  {
   "cell_type": "code",
   "execution_count": 22,
   "id": "3315f4ae-37c7-4fa6-bedc-5617a89a995a",
   "metadata": {},
   "outputs": [
    {
     "name": "stdout",
     "output_type": "stream",
     "text": [
      "Found 13870 shared borders\n",
      "[1.0619422764712323e-05, 1.0619422764712323e-05, 0.8022661767285156, 0.8022661767285156, 1.8845740319822193, 1.8845740319822193, 3.46334577894651, 3.46334577894651, 4.669324496790051, 4.669324496790051, 4.805699894182023, 4.805699894182023, 6.1742819995770795, 6.1742819995770795, 6.7860322354280616, 6.7860322354280616, 7.518400806864604, 7.518400806864604, 7.789909988068718, 7.789909988068718]\n"
     ]
    }
   ],
   "source": [
    "# Alternative approach to find neighbors and shared border lengths\n",
    "neighbors_list = []\n",
    "\n",
    "# Loop through each polygon\n",
    "for idx1, row1 in final_df.iterrows():\n",
    "    geom1 = row1.geometry\n",
    "    \n",
    "    # Find all polygons that touch this one\n",
    "    for idx2, row2 in final_df.iterrows():\n",
    "        if idx1 != idx2:  # Skip self\n",
    "            geom2 = row2.geometry\n",
    "            \n",
    "            # Check if they share a border\n",
    "            if geom1.touches(geom2):\n",
    "                # Calculate the shared boundary length\n",
    "                shared_boundary = geom1.boundary.intersection(geom2.boundary)\n",
    "                length = shared_boundary.length\n",
    "                \n",
    "                if length > 0:\n",
    "                    neighbors_list.append((idx1, idx2, length))\n",
    "\n",
    "# Convert to DataFrame\n",
    "neighbor_df = pd.DataFrame(neighbors_list, columns=[\"source\", \"target\", \"border_length\"])\n",
    "print(f\"Found {len(neighbor_df)} shared borders\")\n",
    "\n",
    "# Sort and print border lengths\n",
    "border_lengths = sorted(neighbor_df.border_length.tolist())\n",
    "print(border_lengths[:20])  # Print first 20 border lengths"
   ]
  },
  {
   "cell_type": "code",
   "execution_count": 23,
   "id": "d5df541e-482b-49e4-870b-515451f7ded6",
   "metadata": {},
   "outputs": [
    {
     "name": "stdout",
     "output_type": "stream",
     "text": [
      "Snapping all geometries to a grid with precision 10^( -5 ) to avoid GEOS errors.\n",
      "Identifying overlaps...\n"
     ]
    },
    {
     "name": "stderr",
     "output_type": "stream",
     "text": [
      "100%|█████████████████████████████████████| 2494/2494 [00:01<00:00, 1336.94it/s]\n"
     ]
    },
    {
     "name": "stdout",
     "output_type": "stream",
     "text": [
      "Resolving overlaps...\n",
      "Filling gaps...\n"
     ]
    },
    {
     "name": "stderr",
     "output_type": "stream",
     "text": [
      "Gaps to simplify: 100%|███████████████████████████| 1/1 [00:00<00:00,  3.89it/s]\n",
      "Gaps to fill: 0it [00:00, ?it/s]\n"
     ]
    },
    {
     "name": "stdout",
     "output_type": "stream",
     "text": [
      "Converting small rook adjacencies to queen...\n"
     ]
    },
    {
     "name": "stderr",
     "output_type": "stream",
     "text": [
      "100%|██████████████████████████████████████| 2477/2477 [00:08<00:00, 307.18it/s]\n",
      "100%|████████████████████████████████████████████| 4/4 [00:00<00:00, 962.77it/s]\n",
      "100%|████████████████████████████████████████████| 4/4 [00:00<00:00, 707.96it/s]\n",
      "100%|████████████████████████████████████████████| 5/5 [00:00<00:00, 669.95it/s]\n",
      "100%|████████████████████████████████████████████| 4/4 [00:00<00:00, 846.05it/s]\n",
      "100%|███████████████████████████████████████████| 4/4 [00:00<00:00, 1011.41it/s]\n",
      "100%|███████████████████████████████████████████| 4/4 [00:00<00:00, 1091.34it/s]\n",
      "100%|████████████████████████████████████████████| 4/4 [00:00<00:00, 993.03it/s]\n",
      "100%|███████████████████████████████████████████| 4/4 [00:00<00:00, 1088.16it/s]\n",
      "100%|████████████████████████████████████████████| 4/4 [00:00<00:00, 873.72it/s]\n",
      "100%|███████████████████████████████████████████| 5/5 [00:00<00:00, 1166.90it/s]\n",
      "100%|███████████████████████████████████████████| 4/4 [00:00<00:00, 1078.99it/s]\n",
      "100%|███████████████████████████████████████████| 4/4 [00:00<00:00, 1191.56it/s]\n",
      "100%|████████████████████████████████████████████| 3/3 [00:00<00:00, 500.75it/s]\n",
      "100%|███████████████████████████████████████████| 4/4 [00:00<00:00, 1042.52it/s]\n",
      "100%|███████████████████████████████████████████| 5/5 [00:00<00:00, 1231.16it/s]\n",
      "100%|███████████████████████████████████████████| 4/4 [00:00<00:00, 1247.65it/s]\n",
      "100%|███████████████████████████████████████████| 4/4 [00:00<00:00, 1184.50it/s]\n",
      "100%|███████████████████████████████████████████| 4/4 [00:00<00:00, 1213.98it/s]\n",
      "100%|███████████████████████████████████████████| 4/4 [00:00<00:00, 1105.58it/s]\n",
      "100%|███████████████████████████████████████████| 5/5 [00:00<00:00, 1253.75it/s]\n",
      "100%|███████████████████████████████████████████| 4/4 [00:00<00:00, 1160.41it/s]\n",
      "100%|███████████████████████████████████████████| 4/4 [00:00<00:00, 1210.30it/s]\n",
      "100%|███████████████████████████████████████████| 4/4 [00:00<00:00, 1159.13it/s]\n",
      "100%|███████████████████████████████████████████| 4/4 [00:00<00:00, 1139.29it/s]\n",
      "100%|███████████████████████████████████████████| 4/4 [00:00<00:00, 1206.99it/s]\n",
      "100%|███████████████████████████████████████████| 4/4 [00:00<00:00, 1135.05it/s]\n",
      "100%|███████████████████████████████████████████| 4/4 [00:00<00:00, 1170.20it/s]\n",
      "100%|███████████████████████████████████████████| 4/4 [00:00<00:00, 1162.50it/s]\n",
      "100%|███████████████████████████████████████████| 4/4 [00:00<00:00, 1159.13it/s]\n",
      "100%|███████████████████████████████████████████| 4/4 [00:00<00:00, 1208.38it/s]\n",
      "100%|███████████████████████████████████████████| 4/4 [00:00<00:00, 1203.44it/s]\n",
      "100%|███████████████████████████████████████████| 4/4 [00:00<00:00, 1162.82it/s]\n",
      "100%|███████████████████████████████████████████| 4/4 [00:00<00:00, 1201.89it/s]\n",
      "100%|███████████████████████████████████████████| 5/5 [00:00<00:00, 1224.33it/s]\n",
      "100%|███████████████████████████████████████████| 4/4 [00:00<00:00, 1232.35it/s]\n",
      "100%|███████████████████████████████████████████| 4/4 [00:00<00:00, 1251.47it/s]\n",
      "100%|███████████████████████████████████████████| 5/5 [00:00<00:00, 1198.78it/s]\n",
      "100%|███████████████████████████████████████████| 4/4 [00:00<00:00, 1167.84it/s]\n",
      "100%|███████████████████████████████████████████| 4/4 [00:00<00:00, 1310.11it/s]\n",
      "100%|███████████████████████████████████████████| 4/4 [00:00<00:00, 1167.52it/s]\n",
      "100%|███████████████████████████████████████████| 4/4 [00:00<00:00, 1364.78it/s]\n",
      "100%|███████████████████████████████████████████| 4/4 [00:00<00:00, 1062.99it/s]\n",
      "100%|████████████████████████████████████████████| 3/3 [00:00<00:00, 806.49it/s]\n",
      "100%|███████████████████████████████████████████| 4/4 [00:00<00:00, 1234.16it/s]\n",
      "100%|███████████████████████████████████████████| 4/4 [00:00<00:00, 1189.11it/s]\n",
      "100%|███████████████████████████████████████████| 4/4 [00:00<00:00, 1185.59it/s]\n",
      "100%|███████████████████████████████████████████| 4/4 [00:00<00:00, 1198.29it/s]\n",
      "100%|███████████████████████████████████████████| 5/5 [00:00<00:00, 1262.28it/s]\n",
      "100%|███████████████████████████████████████████| 4/4 [00:00<00:00, 1164.20it/s]\n"
     ]
    }
   ],
   "source": [
    "final_df = smart_repair(final_df, min_rook_length = 30)"
   ]
  },
  {
   "cell_type": "code",
   "execution_count": 24,
   "id": "ed540615-26d4-4ef5-bb22-5f2c9d3c1007",
   "metadata": {},
   "outputs": [
    {
     "name": "stderr",
     "output_type": "stream",
     "text": [
      "100%|██████████████████████████████████████| 2477/2477 [00:06<00:00, 357.65it/s]\n"
     ]
    },
    {
     "data": {
      "text/plain": [
       "True"
      ]
     },
     "execution_count": 24,
     "metadata": {},
     "output_type": "execute_result"
    }
   ],
   "source": [
    "maup.doctor(final_df)"
   ]
  },
  {
   "cell_type": "markdown",
   "id": "6418e97a-5a95-42d2-9e63-7e31a425ca3e",
   "metadata": {},
   "source": [
    "## Put data in same geometry units"
   ]
  },
  {
   "cell_type": "code",
   "execution_count": 25,
   "id": "b06ca282-2396-415b-8a06-b7ba8615e73f",
   "metadata": {},
   "outputs": [
    {
     "name": "stderr",
     "output_type": "stream",
     "text": [
      "100%|██████████████████████████████████████| 2477/2477 [00:09<00:00, 266.78it/s]\n",
      "100%|███████████████████████████████████████| 2477/2477 [00:39<00:00, 62.90it/s]\n"
     ]
    }
   ],
   "source": [
    "blocks_to_precincts_assignment = maup.assign(population_df.geometry, final_df.geometry)"
   ]
  },
  {
   "cell_type": "code",
   "execution_count": 26,
   "id": "ffc53f31-d37a-43fe-8550-c629ac3bbe85",
   "metadata": {},
   "outputs": [
    {
     "data": {
      "text/plain": [
       "0         1050\n",
       "1         1040\n",
       "2         1047\n",
       "3         2398\n",
       "4          377\n",
       "          ... \n",
       "163486     415\n",
       "163487     522\n",
       "163488     571\n",
       "163489     402\n",
       "163490     616\n",
       "Length: 163491, dtype: int64"
      ]
     },
     "execution_count": 26,
     "metadata": {},
     "output_type": "execute_result"
    }
   ],
   "source": [
    "blocks_to_precincts_assignment"
   ]
  },
  {
   "cell_type": "code",
   "execution_count": 27,
   "id": "8d7f5b88-d881-4f34-a233-cba929b465a3",
   "metadata": {},
   "outputs": [],
   "source": [
    "pop_column_names = ['P0020001', 'P0020002', 'P0020005', 'P0020006', 'P0020007',\n",
    "                    'P0020008', 'P0020009', 'P0020010', 'P0020011']"
   ]
  },
  {
   "cell_type": "code",
   "execution_count": 28,
   "id": "e6623092-cda0-419c-8ec9-573ae39d6d99",
   "metadata": {},
   "outputs": [],
   "source": [
    "vap_column_names = ['P0040001', 'P0040002', 'P0040005', 'P0040006', 'P0040007',\n",
    "                    'P0040008', 'P0040009', 'P0040010', 'P0040011']"
   ]
  },
  {
   "cell_type": "code",
   "execution_count": 29,
   "id": "2c240a53-9fb0-42a6-ba2a-d42cccb81f36",
   "metadata": {},
   "outputs": [],
   "source": [
    "for name in pop_column_names:\n",
    "    final_df[name] = population_df[name].groupby(blocks_to_precincts_assignment).sum()\n",
    "\n",
    "for name in vap_column_names:\n",
    "    final_df[name] = population_df[name].groupby(blocks_to_precincts_assignment).sum()"
   ]
  },
  {
   "cell_type": "code",
   "execution_count": 30,
   "id": "dfa486e5-ef91-4307-8b2c-e667811bd3c0",
   "metadata": {},
   "outputs": [
    {
     "name": "stdout",
     "output_type": "stream",
     "text": [
      "8631393\n",
      "8631393.0\n",
      "6745054\n",
      "6745054.0\n"
     ]
    }
   ],
   "source": [
    "print(population_df['P0020001'].sum())\n",
    "print(final_df['P0020001'].sum())\n",
    "\n",
    "print(population_df['P0040001'].sum())\n",
    "print(final_df['P0040001'].sum())"
   ]
  },
  {
   "cell_type": "code",
   "execution_count": 31,
   "id": "0b6d3c0c-4dc1-4376-8b08-4af9bb4aab40",
   "metadata": {},
   "outputs": [],
   "source": [
    "rename_dict = {'P0020001': 'TOTPOP', 'P0020002': 'HISP', 'P0020005': 'NH_WHITE', 'P0020006': 'NH_BLACK', 'P0020007': 'NH_AMIN',\n",
    "                    'P0020008': 'NH_ASIAN', 'P0020009': 'NH_NHPI', 'P0020010': 'NH_OTHER', 'P0020011': 'NH_2MORE',\n",
    "                    'P0040001': 'VAP', 'P0040002': 'HVAP', 'P0040005': 'WVAP', 'P0040006': 'BVAP', 'P0040007': 'AMINVAP',\n",
    "                                        'P0040008': 'ASIANVAP', 'P0040009': 'NHPIVAP', 'P0040010': 'OTHERVAP', 'P0040011': '2MOREVAP',\n",
    "                                        'G20PREDBID': 'G20PRED', 'G20PRERTRU': 'G20PRER', 'G20USSDWAR': 'G20USSD', \n",
    "                                        'G20USSRGAD': 'G20USSR'}"
   ]
  },
  {
   "cell_type": "code",
   "execution_count": 32,
   "id": "fc5b910c-4c7f-477b-a037-ac66bbdc6228",
   "metadata": {},
   "outputs": [
    {
     "data": {
      "text/plain": [
       "Index(['COUNTYFP', 'LOCALITY', 'VTDST', 'PRECINCT', 'G20PREDBID', 'G20PRERTRU',\n",
       "       'G20PRELJOR', 'G20PREOWRI', 'G20USSDWAR', 'G20USSRGAD', 'G20USSOWRI',\n",
       "       'geometry', 'P0020001', 'P0020002', 'P0020005', 'P0020006', 'P0020007',\n",
       "       'P0020008', 'P0020009', 'P0020010', 'P0020011', 'P0040001', 'P0040002',\n",
       "       'P0040005', 'P0040006', 'P0040007', 'P0040008', 'P0040009', 'P0040010',\n",
       "       'P0040011'],\n",
       "      dtype='object')"
      ]
     },
     "execution_count": 32,
     "metadata": {},
     "output_type": "execute_result"
    }
   ],
   "source": [
    "final_df.columns"
   ]
  },
  {
   "cell_type": "code",
   "execution_count": 33,
   "id": "11088024-33a1-472f-aac2-17d959900f49",
   "metadata": {},
   "outputs": [],
   "source": [
    "final_df.rename(columns=rename_dict, inplace = True)"
   ]
  },
  {
   "cell_type": "code",
   "execution_count": 34,
   "id": "aae38471-ed2a-42bb-beec-b4ae31b9e254",
   "metadata": {},
   "outputs": [
    {
     "data": {
      "text/plain": [
       "Index(['COUNTYFP', 'LOCALITY', 'VTDST', 'PRECINCT', 'G20PRED', 'G20PRER',\n",
       "       'G20PRELJOR', 'G20PREOWRI', 'G20USSD', 'G20USSR', 'G20USSOWRI',\n",
       "       'geometry', 'TOTPOP', 'HISP', 'NH_WHITE', 'NH_BLACK', 'NH_AMIN',\n",
       "       'NH_ASIAN', 'NH_NHPI', 'NH_OTHER', 'NH_2MORE', 'VAP', 'HVAP', 'WVAP',\n",
       "       'BVAP', 'AMINVAP', 'ASIANVAP', 'NHPIVAP', 'OTHERVAP', '2MOREVAP'],\n",
       "      dtype='object')"
      ]
     },
     "execution_count": 34,
     "metadata": {},
     "output_type": "execute_result"
    }
   ],
   "source": [
    "final_df.columns"
   ]
  },
  {
   "cell_type": "code",
   "execution_count": 35,
   "id": "da018903-9a25-470f-8b21-8a3b4ae8a942",
   "metadata": {},
   "outputs": [
    {
     "data": {
      "text/plain": [
       "Index(['COUNTYFP', 'LOCALITY', 'VTDST', 'PRECINCT', 'G20PRED', 'G20PRER',\n",
       "       'G20USSD', 'G20USSR', 'geometry', 'TOTPOP', 'HISP', 'NH_WHITE',\n",
       "       'NH_BLACK', 'NH_AMIN', 'NH_ASIAN', 'NH_NHPI', 'NH_OTHER', 'NH_2MORE',\n",
       "       'VAP', 'HVAP', 'WVAP', 'BVAP', 'AMINVAP', 'ASIANVAP', 'NHPIVAP',\n",
       "       'OTHERVAP', '2MOREVAP'],\n",
       "      dtype='object')"
      ]
     },
     "execution_count": 35,
     "metadata": {},
     "output_type": "execute_result"
    }
   ],
   "source": [
    "final_df.drop(columns=[ 'G20PRELJOR','G20PREOWRI','G20USSOWRI'], inplace=True)\n",
    "final_df.columns"
   ]
  },
  {
   "cell_type": "markdown",
   "id": "88d534f3-fc63-40fd-b75c-73393730dccb",
   "metadata": {},
   "source": [
    "## Add Senate District Data"
   ]
  },
  {
   "cell_type": "code",
   "execution_count": 36,
   "id": "85358146-d971-432c-b451-71404bc73974",
   "metadata": {},
   "outputs": [
    {
     "name": "stderr",
     "output_type": "stream",
     "text": [
      "100%|██████████████████████████████████████████| 40/40 [00:00<00:00, 120.90it/s]\n",
      "100%|███████████████████████████████████████████| 40/40 [00:03<00:00, 11.70it/s]\n"
     ]
    }
   ],
   "source": [
    "precincts_to_districts_assignment = maup.assign(final_df.geometry, sen_df.geometry)\n",
    "final_df[\"SEND\"] = precincts_to_districts_assignment"
   ]
  },
  {
   "cell_type": "code",
   "execution_count": 37,
   "id": "e0918da2-a4ad-414a-99f4-f7b1b43ae900",
   "metadata": {},
   "outputs": [
    {
     "data": {
      "text/plain": [
       "0       38\n",
       "1       38\n",
       "2       38\n",
       "3       38\n",
       "4       38\n",
       "        ..\n",
       "2472    14\n",
       "2473    14\n",
       "2474    14\n",
       "2475    18\n",
       "2476    18\n",
       "Length: 2477, dtype: int64"
      ]
     },
     "execution_count": 37,
     "metadata": {},
     "output_type": "execute_result"
    }
   ],
   "source": [
    "precincts_to_districts_assignment"
   ]
  },
  {
   "cell_type": "code",
   "execution_count": 38,
   "id": "ad792dd7-f6fa-4671-b56f-a0f719f6ed6e",
   "metadata": {},
   "outputs": [
    {
     "name": "stdout",
     "output_type": "stream",
     "text": [
      "{0, 1, 2, 3, 4, 5, 6, 7, 8, 9, 10, 11, 12, 13, 14, 15, 16, 17, 18, 19, 20, 21, 22, 23, 24, 25, 26, 27, 28, 29, 30, 31, 32, 33, 34, 35, 36, 37, 38, 39}\n"
     ]
    }
   ],
   "source": [
    "print(set(final_df[\"SEND\"]))"
   ]
  },
  {
   "cell_type": "code",
   "execution_count": 39,
   "id": "785ad530-f577-47e9-b3b0-1fe776b0c8a0",
   "metadata": {},
   "outputs": [
    {
     "data": {
      "text/html": [
       "<div>\n",
       "<style scoped>\n",
       "    .dataframe tbody tr th:only-of-type {\n",
       "        vertical-align: middle;\n",
       "    }\n",
       "\n",
       "    .dataframe tbody tr th {\n",
       "        vertical-align: top;\n",
       "    }\n",
       "\n",
       "    .dataframe thead th {\n",
       "        text-align: right;\n",
       "    }\n",
       "</style>\n",
       "<table border=\"1\" class=\"dataframe\">\n",
       "  <thead>\n",
       "    <tr style=\"text-align: right;\">\n",
       "      <th></th>\n",
       "      <th>ID</th>\n",
       "      <th>DISTRICT</th>\n",
       "      <th>DISTRICTN</th>\n",
       "      <th>geometry</th>\n",
       "    </tr>\n",
       "  </thead>\n",
       "  <tbody>\n",
       "    <tr>\n",
       "      <th>0</th>\n",
       "      <td>1</td>\n",
       "      <td>1</td>\n",
       "      <td>1</td>\n",
       "      <td>POLYGON ((705347.630 4275550.898, 704666.489 4...</td>\n",
       "    </tr>\n",
       "    <tr>\n",
       "      <th>1</th>\n",
       "      <td>2</td>\n",
       "      <td>2</td>\n",
       "      <td>2</td>\n",
       "      <td>POLYGON ((612561.044 4191906.155, 612544.015 4...</td>\n",
       "    </tr>\n",
       "    <tr>\n",
       "      <th>2</th>\n",
       "      <td>3</td>\n",
       "      <td>3</td>\n",
       "      <td>3</td>\n",
       "      <td>POLYGON ((570676.114 4122334.408, 570663.569 4...</td>\n",
       "    </tr>\n",
       "    <tr>\n",
       "      <th>3</th>\n",
       "      <td>4</td>\n",
       "      <td>4</td>\n",
       "      <td>4</td>\n",
       "      <td>POLYGON ((552237.022 4097703.523, 552238.144 4...</td>\n",
       "    </tr>\n",
       "    <tr>\n",
       "      <th>4</th>\n",
       "      <td>5</td>\n",
       "      <td>5</td>\n",
       "      <td>5</td>\n",
       "      <td>POLYGON ((443852.875 4056405.772, 443689.267 4...</td>\n",
       "    </tr>\n",
       "    <tr>\n",
       "      <th>5</th>\n",
       "      <td>6</td>\n",
       "      <td>6</td>\n",
       "      <td>6</td>\n",
       "      <td>POLYGON ((331118.995 4051434.244, 331031.517 4...</td>\n",
       "    </tr>\n",
       "    <tr>\n",
       "      <th>6</th>\n",
       "      <td>7</td>\n",
       "      <td>7</td>\n",
       "      <td>7</td>\n",
       "      <td>POLYGON ((614783.440 4044827.797, 614749.961 4...</td>\n",
       "    </tr>\n",
       "    <tr>\n",
       "      <th>7</th>\n",
       "      <td>8</td>\n",
       "      <td>9</td>\n",
       "      <td>9</td>\n",
       "      <td>POLYGON ((630828.186 4044933.212, 630796.226 4...</td>\n",
       "    </tr>\n",
       "    <tr>\n",
       "      <th>8</th>\n",
       "      <td>9</td>\n",
       "      <td>8</td>\n",
       "      <td>8</td>\n",
       "      <td>POLYGON ((635173.004 4096598.941, 635083.515 4...</td>\n",
       "    </tr>\n",
       "    <tr>\n",
       "      <th>9</th>\n",
       "      <td>10</td>\n",
       "      <td>10</td>\n",
       "      <td>10</td>\n",
       "      <td>POLYGON ((787849.465 4121120.884, 787839.656 4...</td>\n",
       "    </tr>\n",
       "    <tr>\n",
       "      <th>10</th>\n",
       "      <td>11</td>\n",
       "      <td>11</td>\n",
       "      <td>11</td>\n",
       "      <td>POLYGON ((669198.998 4140588.797, 669197.293 4...</td>\n",
       "    </tr>\n",
       "    <tr>\n",
       "      <th>11</th>\n",
       "      <td>12</td>\n",
       "      <td>12</td>\n",
       "      <td>12</td>\n",
       "      <td>POLYGON ((808349.909 4124988.505, 808348.485 4...</td>\n",
       "    </tr>\n",
       "    <tr>\n",
       "      <th>12</th>\n",
       "      <td>13</td>\n",
       "      <td>16</td>\n",
       "      <td>16</td>\n",
       "      <td>POLYGON ((799739.049 4161901.864, 799735.823 4...</td>\n",
       "    </tr>\n",
       "    <tr>\n",
       "      <th>13</th>\n",
       "      <td>14</td>\n",
       "      <td>26</td>\n",
       "      <td>26</td>\n",
       "      <td>POLYGON ((877965.915 4122352.698, 877794.699 4...</td>\n",
       "    </tr>\n",
       "    <tr>\n",
       "      <th>14</th>\n",
       "      <td>15</td>\n",
       "      <td>17</td>\n",
       "      <td>17</td>\n",
       "      <td>POLYGON ((764408.838 4048314.174, 764411.341 4...</td>\n",
       "    </tr>\n",
       "    <tr>\n",
       "      <th>15</th>\n",
       "      <td>16</td>\n",
       "      <td>15</td>\n",
       "      <td>15</td>\n",
       "      <td>POLYGON ((819072.683 4127180.643, 819084.880 4...</td>\n",
       "    </tr>\n",
       "    <tr>\n",
       "      <th>16</th>\n",
       "      <td>17</td>\n",
       "      <td>13</td>\n",
       "      <td>13</td>\n",
       "      <td>POLYGON ((818014.214 4068671.353, 818038.177 4...</td>\n",
       "    </tr>\n",
       "    <tr>\n",
       "      <th>17</th>\n",
       "      <td>18</td>\n",
       "      <td>14</td>\n",
       "      <td>14</td>\n",
       "      <td>POLYGON ((813127.889 4154393.212, 813118.661 4...</td>\n",
       "    </tr>\n",
       "    <tr>\n",
       "      <th>18</th>\n",
       "      <td>19</td>\n",
       "      <td>37</td>\n",
       "      <td>37</td>\n",
       "      <td>POLYGON ((820923.868 4304722.177, 820906.555 4...</td>\n",
       "    </tr>\n",
       "    <tr>\n",
       "      <th>19</th>\n",
       "      <td>20</td>\n",
       "      <td>40</td>\n",
       "      <td>40</td>\n",
       "      <td>POLYGON ((839417.342 4305090.466, 839197.878 4...</td>\n",
       "    </tr>\n",
       "    <tr>\n",
       "      <th>20</th>\n",
       "      <td>21</td>\n",
       "      <td>39</td>\n",
       "      <td>39</td>\n",
       "      <td>POLYGON ((842986.834 4300876.807, 842982.364 4...</td>\n",
       "    </tr>\n",
       "    <tr>\n",
       "      <th>21</th>\n",
       "      <td>22</td>\n",
       "      <td>38</td>\n",
       "      <td>38</td>\n",
       "      <td>POLYGON ((831999.540 4311898.747, 831990.168 4...</td>\n",
       "    </tr>\n",
       "    <tr>\n",
       "      <th>22</th>\n",
       "      <td>23</td>\n",
       "      <td>35</td>\n",
       "      <td>35</td>\n",
       "      <td>POLYGON ((831189.455 4294827.691, 831175.355 4...</td>\n",
       "    </tr>\n",
       "    <tr>\n",
       "      <th>23</th>\n",
       "      <td>24</td>\n",
       "      <td>36</td>\n",
       "      <td>36</td>\n",
       "      <td>POLYGON ((814014.254 4294329.288, 813999.284 4...</td>\n",
       "    </tr>\n",
       "    <tr>\n",
       "      <th>24</th>\n",
       "      <td>25</td>\n",
       "      <td>33</td>\n",
       "      <td>33</td>\n",
       "      <td>POLYGON ((825599.899 4277115.930, 825581.654 4...</td>\n",
       "    </tr>\n",
       "    <tr>\n",
       "      <th>25</th>\n",
       "      <td>26</td>\n",
       "      <td>34</td>\n",
       "      <td>34</td>\n",
       "      <td>POLYGON ((828213.305 4281967.936, 828223.412 4...</td>\n",
       "    </tr>\n",
       "    <tr>\n",
       "      <th>26</th>\n",
       "      <td>27</td>\n",
       "      <td>32</td>\n",
       "      <td>32</td>\n",
       "      <td>POLYGON ((798997.905 4309870.968, 798990.133 4...</td>\n",
       "    </tr>\n",
       "    <tr>\n",
       "      <th>27</th>\n",
       "      <td>28</td>\n",
       "      <td>31</td>\n",
       "      <td>31</td>\n",
       "      <td>POLYGON ((772340.097 4280383.289, 772368.598 4...</td>\n",
       "    </tr>\n",
       "    <tr>\n",
       "      <th>28</th>\n",
       "      <td>29</td>\n",
       "      <td>30</td>\n",
       "      <td>30</td>\n",
       "      <td>POLYGON ((803819.841 4289960.149, 803664.658 4...</td>\n",
       "    </tr>\n",
       "    <tr>\n",
       "      <th>29</th>\n",
       "      <td>30</td>\n",
       "      <td>29</td>\n",
       "      <td>29</td>\n",
       "      <td>POLYGON ((822103.749 4255636.590, 821952.490 4...</td>\n",
       "    </tr>\n",
       "    <tr>\n",
       "      <th>30</th>\n",
       "      <td>31</td>\n",
       "      <td>27</td>\n",
       "      <td>27</td>\n",
       "      <td>POLYGON ((801149.229 4237395.625, 801150.028 4...</td>\n",
       "    </tr>\n",
       "    <tr>\n",
       "      <th>31</th>\n",
       "      <td>32</td>\n",
       "      <td>28</td>\n",
       "      <td>28</td>\n",
       "      <td>POLYGON ((782105.727 4218538.843, 782074.714 4...</td>\n",
       "    </tr>\n",
       "    <tr>\n",
       "      <th>32</th>\n",
       "      <td>33</td>\n",
       "      <td>25</td>\n",
       "      <td>25</td>\n",
       "      <td>POLYGON ((899827.894 4163663.511, 899816.132 4...</td>\n",
       "    </tr>\n",
       "    <tr>\n",
       "      <th>33</th>\n",
       "      <td>34</td>\n",
       "      <td>18</td>\n",
       "      <td>18</td>\n",
       "      <td>POLYGON ((919615.046 4074967.430, 919609.206 4...</td>\n",
       "    </tr>\n",
       "    <tr>\n",
       "      <th>34</th>\n",
       "      <td>35</td>\n",
       "      <td>19</td>\n",
       "      <td>19</td>\n",
       "      <td>POLYGON ((960702.670 4057324.841, 959658.398 4...</td>\n",
       "    </tr>\n",
       "    <tr>\n",
       "      <th>35</th>\n",
       "      <td>36</td>\n",
       "      <td>23</td>\n",
       "      <td>23</td>\n",
       "      <td>POLYGON ((911063.473 4099408.562, 911033.619 4...</td>\n",
       "    </tr>\n",
       "    <tr>\n",
       "      <th>36</th>\n",
       "      <td>37</td>\n",
       "      <td>24</td>\n",
       "      <td>24</td>\n",
       "      <td>POLYGON ((901248.497 4103592.683, 900544.406 4...</td>\n",
       "    </tr>\n",
       "    <tr>\n",
       "      <th>37</th>\n",
       "      <td>38</td>\n",
       "      <td>22</td>\n",
       "      <td>22</td>\n",
       "      <td>POLYGON ((933653.647 4078935.099, 933643.767 4...</td>\n",
       "    </tr>\n",
       "    <tr>\n",
       "      <th>38</th>\n",
       "      <td>39</td>\n",
       "      <td>20</td>\n",
       "      <td>20</td>\n",
       "      <td>POLYGON ((938774.664 4085516.584, 938798.220 4...</td>\n",
       "    </tr>\n",
       "    <tr>\n",
       "      <th>39</th>\n",
       "      <td>40</td>\n",
       "      <td>21</td>\n",
       "      <td>21</td>\n",
       "      <td>POLYGON ((923096.682 4085496.705, 923079.900 4...</td>\n",
       "    </tr>\n",
       "  </tbody>\n",
       "</table>\n",
       "</div>"
      ],
      "text/plain": [
       "    ID DISTRICT  DISTRICTN                                           geometry\n",
       "0    1        1          1  POLYGON ((705347.630 4275550.898, 704666.489 4...\n",
       "1    2        2          2  POLYGON ((612561.044 4191906.155, 612544.015 4...\n",
       "2    3        3          3  POLYGON ((570676.114 4122334.408, 570663.569 4...\n",
       "3    4        4          4  POLYGON ((552237.022 4097703.523, 552238.144 4...\n",
       "4    5        5          5  POLYGON ((443852.875 4056405.772, 443689.267 4...\n",
       "5    6        6          6  POLYGON ((331118.995 4051434.244, 331031.517 4...\n",
       "6    7        7          7  POLYGON ((614783.440 4044827.797, 614749.961 4...\n",
       "7    8        9          9  POLYGON ((630828.186 4044933.212, 630796.226 4...\n",
       "8    9        8          8  POLYGON ((635173.004 4096598.941, 635083.515 4...\n",
       "9   10       10         10  POLYGON ((787849.465 4121120.884, 787839.656 4...\n",
       "10  11       11         11  POLYGON ((669198.998 4140588.797, 669197.293 4...\n",
       "11  12       12         12  POLYGON ((808349.909 4124988.505, 808348.485 4...\n",
       "12  13       16         16  POLYGON ((799739.049 4161901.864, 799735.823 4...\n",
       "13  14       26         26  POLYGON ((877965.915 4122352.698, 877794.699 4...\n",
       "14  15       17         17  POLYGON ((764408.838 4048314.174, 764411.341 4...\n",
       "15  16       15         15  POLYGON ((819072.683 4127180.643, 819084.880 4...\n",
       "16  17       13         13  POLYGON ((818014.214 4068671.353, 818038.177 4...\n",
       "17  18       14         14  POLYGON ((813127.889 4154393.212, 813118.661 4...\n",
       "18  19       37         37  POLYGON ((820923.868 4304722.177, 820906.555 4...\n",
       "19  20       40         40  POLYGON ((839417.342 4305090.466, 839197.878 4...\n",
       "20  21       39         39  POLYGON ((842986.834 4300876.807, 842982.364 4...\n",
       "21  22       38         38  POLYGON ((831999.540 4311898.747, 831990.168 4...\n",
       "22  23       35         35  POLYGON ((831189.455 4294827.691, 831175.355 4...\n",
       "23  24       36         36  POLYGON ((814014.254 4294329.288, 813999.284 4...\n",
       "24  25       33         33  POLYGON ((825599.899 4277115.930, 825581.654 4...\n",
       "25  26       34         34  POLYGON ((828213.305 4281967.936, 828223.412 4...\n",
       "26  27       32         32  POLYGON ((798997.905 4309870.968, 798990.133 4...\n",
       "27  28       31         31  POLYGON ((772340.097 4280383.289, 772368.598 4...\n",
       "28  29       30         30  POLYGON ((803819.841 4289960.149, 803664.658 4...\n",
       "29  30       29         29  POLYGON ((822103.749 4255636.590, 821952.490 4...\n",
       "30  31       27         27  POLYGON ((801149.229 4237395.625, 801150.028 4...\n",
       "31  32       28         28  POLYGON ((782105.727 4218538.843, 782074.714 4...\n",
       "32  33       25         25  POLYGON ((899827.894 4163663.511, 899816.132 4...\n",
       "33  34       18         18  POLYGON ((919615.046 4074967.430, 919609.206 4...\n",
       "34  35       19         19  POLYGON ((960702.670 4057324.841, 959658.398 4...\n",
       "35  36       23         23  POLYGON ((911063.473 4099408.562, 911033.619 4...\n",
       "36  37       24         24  POLYGON ((901248.497 4103592.683, 900544.406 4...\n",
       "37  38       22         22  POLYGON ((933653.647 4078935.099, 933643.767 4...\n",
       "38  39       20         20  POLYGON ((938774.664 4085516.584, 938798.220 4...\n",
       "39  40       21         21  POLYGON ((923096.682 4085496.705, 923079.900 4..."
      ]
     },
     "execution_count": 39,
     "metadata": {},
     "output_type": "execute_result"
    }
   ],
   "source": [
    "sen_df"
   ]
  },
  {
   "cell_type": "code",
   "execution_count": 40,
   "id": "612d2526-87de-4e0b-b176-c2014cd4b185",
   "metadata": {},
   "outputs": [
    {
     "name": "stdout",
     "output_type": "stream",
     "text": [
      "{'9', '35', '27', '17', '38', '24', '4', '28', '36', '29', '5', '8', '12', '13', '19', '34', '31', '30', '1', '37', '6', '7', '23', '14', '22', '40', '21', '3', '11', '18', '15', '16', '39', '33', '2', '26', '20', '25', '10', '32'}\n",
      "{'9', '35', '27', '17', '38', '24', '4', '28', '36', '29', '8', '5', '12', '13', '19', '34', '31', '30', '1', '37', '6', '7', '23', '14', '21', '40', '22', '3', '11', '18', '15', '16', '39', '33', '2', '20', '26', '25', '10', '32'}\n"
     ]
    }
   ],
   "source": [
    "for precinct_index in range(len(final_df)):\n",
    "    #print(sen_df.at[45, district_col_name])\n",
    "    #print(final_df.at[precinct_index, \"SEND\"])\n",
    "    final_df.at[precinct_index, \"SEND\"] = sen_df.at[int(final_df.at[precinct_index, \"SEND\"]), district_col_name]\n",
    "print(set(sen_df[district_col_name]))\n",
    "print(set(final_df[\"SEND\"]))"
   ]
  },
  {
   "cell_type": "code",
   "execution_count": 41,
   "id": "43942f13-195b-48ec-b4e3-57e4ebf33d49",
   "metadata": {},
   "outputs": [
    {
     "data": {
      "text/plain": [
       "Index(['COUNTYFP', 'LOCALITY', 'VTDST', 'PRECINCT', 'G20PRED', 'G20PRER',\n",
       "       'G20USSD', 'G20USSR', 'geometry', 'TOTPOP', 'HISP', 'NH_WHITE',\n",
       "       'NH_BLACK', 'NH_AMIN', 'NH_ASIAN', 'NH_NHPI', 'NH_OTHER', 'NH_2MORE',\n",
       "       'VAP', 'HVAP', 'WVAP', 'BVAP', 'AMINVAP', 'ASIANVAP', 'NHPIVAP',\n",
       "       'OTHERVAP', '2MOREVAP', 'SEND'],\n",
       "      dtype='object')"
      ]
     },
     "execution_count": 41,
     "metadata": {},
     "output_type": "execute_result"
    }
   ],
   "source": [
    "final_df.columns"
   ]
  },
  {
   "cell_type": "code",
   "execution_count": 42,
   "id": "6a8e3570-fe53-4666-8573-c1ba96a2da39",
   "metadata": {},
   "outputs": [
    {
     "data": {
      "text/plain": [
       "<Axes: >"
      ]
     },
     "execution_count": 42,
     "metadata": {},
     "output_type": "execute_result"
    },
    {
     "data": {
      "image/png": "[encoded data removed]",
      "text/plain": [
       "<Figure size 640x480 with 1 Axes>"
      ]
     },
     "metadata": {},
     "output_type": "display_data"
    }
   ],
   "source": [
    "final_df.plot()"
   ]
  },
  {
   "cell_type": "code",
   "execution_count": 43,
   "id": "1c040fca-eef8-4ad4-b5ae-120f0be3bff2",
   "metadata": {},
   "outputs": [
    {
     "name": "stdout",
     "output_type": "stream",
     "text": [
      "[219235.0, 214436.0, 212257.0, 218193.0, 222004.0, 214980.0, 216978.0, 214167.0, 216232.0, 216008.0, 215828.0, 221938.0, 214104.0, 216341.0, 215796.0, 219989.0, 220422.0, 211841.0, 215153.0, 217758.0, 212429.0, 212176.0, 214318.0, 211184.0, 215473.0, 216759.0, 213387.0, 207731.0, 213356.0, 215184.0, 219355.0, 221709.0, 212800.0, 218522.0, 221142.0, 214354.0, 206985.0, 219012.0, 220426.0]\n"
     ]
    }
   ],
   "source": [
    "pop_vals = [final_df.loc[final_df[\"SEND\"] == str(n), \"TOTPOP\"].sum() for n in range(1, 40)]\n",
    "print(pop_vals)"
   ]
  },
  {
   "cell_type": "code",
   "execution_count": 44,
   "id": "6835bcc4-3636-4616-8a5a-de72091257f8",
   "metadata": {},
   "outputs": [],
   "source": [
    "directory = \"./VA\"\n",
    "if not os.path.exists(directory):\n",
    "    os.makedirs(directory)\n",
    "final_df.to_file(\"./VA/VA.shp\")"
   ]
  },
  {
   "cell_type": "code",
   "execution_count": null,
   "id": "36b1c08c-8e5f-440d-a004-531740eb6d10",
   "metadata": {},
   "outputs": [],
   "source": []
  }
 ],
 "metadata": {
  "kernelspec": {
   "display_name": "gerry",
   "language": "python",
   "name": "gerry"
  },
  "language_info": {
   "codemirror_mode": {
    "name": "ipython",
    "version": 3
   },
   "file_extension": ".py",
   "mimetype": "text/x-python",
   "name": "python",
   "nbconvert_exporter": "python",
   "pygments_lexer": "ipython3",
   "version": "3.11.8"
  }
 },
 "nbformat": 4,
 "nbformat_minor": 5
}
