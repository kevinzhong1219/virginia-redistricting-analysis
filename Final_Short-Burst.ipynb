{
 "cells": [
  {
   "cell_type": "code",
   "execution_count": 5,
   "id": "e1ba8db6-9ed4-4259-bf36-eead4b334428",
   "metadata": {},
   "outputs": [],
   "source": [
    "from gerrychain import (GeographicPartition, Partition, Graph, MarkovChain,\n",
    "                        proposals, updaters, constraints, accept, Election)\n",
    "from gerrychain.optimization import SingleMetricOptimizer, Gingleator\n",
    "from gerrychain.tree import recursive_seed_part\n",
    "from functools import partial\n",
    "import pandas as pd\n",
    "import json\n",
    "from networkx.readwrite import json_graph\n",
    "import matplotlib.pyplot as plt\n",
    "from tqdm import tqdm\n",
    "import numpy as np\n",
    "import random"
   ]
  },
  {
   "cell_type": "code",
   "execution_count": 6,
   "id": "e97dd331-7057-434f-a35e-37854b9ff2c2",
   "metadata": {},
   "outputs": [],
   "source": [
    "# Set random seed\n",
    "random.seed(2024)\n",
    "\n",
    "# Load the graph\n",
    "graph = Graph.from_json(\"./VA/VA1.json\")"
   ]
  },
  {
   "cell_type": "code",
   "execution_count": 10,
   "id": "4b5b83fe-26ec-4002-8814-b0afca59c26c",
   "metadata": {},
   "outputs": [],
   "source": [
    "# Population and district settings\n",
    "POPCOL = \"TOTPOP\"\n",
    "SEN_DISTS = 40\n",
    "EPS = 0.1  \n",
    "TOTPOP = sum(graph.nodes()[n][POPCOL] for n in graph.nodes())\n",
    "\n",
    "# Create updaters \n",
    "chain_updaters = {\n",
    "    \"population\": updaters.Tally(POPCOL, alias=\"population\"),\n",
    "    \"VAP\": updaters.Tally(\"VAP\"),\n",
    "    \"BVAP\": updaters.Tally(\"BVAP\"),   # Needed for minority calculation\n",
    "}\n"
   ]
  },
  {
   "cell_type": "code",
   "execution_count": 11,
   "id": "ecf78c7d-9097-4b4c-b621-548ca11f6cc7",
   "metadata": {},
   "outputs": [
    {
     "ename": "RuntimeError",
     "evalue": "Could not find a possible cut after 10000 attempts.",
     "output_type": "error",
     "traceback": [
      "\u001b[0;31m---------------------------------------------------------------------------\u001b[0m",
      "\u001b[0;31mRuntimeError\u001b[0m                              Traceback (most recent call last)",
      "Cell \u001b[0;32mIn[11], line 2\u001b[0m\n\u001b[1;32m      1\u001b[0m \u001b[38;5;66;03m# Initial random partition\u001b[39;00m\n\u001b[0;32m----> 2\u001b[0m initial_partition \u001b[38;5;241m=\u001b[39m \u001b[43mPartition\u001b[49m\u001b[38;5;241;43m.\u001b[39;49m\u001b[43mfrom_random_assignment\u001b[49m\u001b[43m(\u001b[49m\n\u001b[1;32m      3\u001b[0m \u001b[43m    \u001b[49m\u001b[43mgraph\u001b[49m\u001b[38;5;241;43m=\u001b[39;49m\u001b[43mgraph\u001b[49m\u001b[43m,\u001b[49m\n\u001b[1;32m      4\u001b[0m \u001b[43m    \u001b[49m\u001b[43mn_parts\u001b[49m\u001b[38;5;241;43m=\u001b[39;49m\u001b[43mSEN_DISTS\u001b[49m\u001b[43m,\u001b[49m\n\u001b[1;32m      5\u001b[0m \u001b[43m    \u001b[49m\u001b[43mepsilon\u001b[49m\u001b[38;5;241;43m=\u001b[39;49m\u001b[43mEPS\u001b[49m\u001b[43m,\u001b[49m\n\u001b[1;32m      6\u001b[0m \u001b[43m    \u001b[49m\u001b[43mpop_col\u001b[49m\u001b[38;5;241;43m=\u001b[39;49m\u001b[43mPOPCOL\u001b[49m\u001b[43m,\u001b[49m\n\u001b[1;32m      7\u001b[0m \u001b[43m    \u001b[49m\u001b[43mupdaters\u001b[49m\u001b[38;5;241;43m=\u001b[39;49m\u001b[43mchain_updaters\u001b[49m\n\u001b[1;32m      8\u001b[0m \u001b[43m)\u001b[49m\n",
      "File \u001b[0;32m~/miniconda3/envs/gerry/lib/python3.11/site-packages/gerrychain/partition/partition.py:107\u001b[0m, in \u001b[0;36mPartition.from_random_assignment\u001b[0;34m(cls, graph, n_parts, epsilon, pop_col, updaters, use_default_updaters, flips, method)\u001b[0m\n\u001b[1;32m    104\u001b[0m total_pop \u001b[38;5;241m=\u001b[39m \u001b[38;5;28msum\u001b[39m(graph\u001b[38;5;241m.\u001b[39mnodes[n][pop_col] \u001b[38;5;28;01mfor\u001b[39;00m n \u001b[38;5;129;01min\u001b[39;00m graph)\n\u001b[1;32m    105\u001b[0m ideal_pop \u001b[38;5;241m=\u001b[39m total_pop \u001b[38;5;241m/\u001b[39m n_parts\n\u001b[0;32m--> 107\u001b[0m assignment \u001b[38;5;241m=\u001b[39m \u001b[43mmethod\u001b[49m\u001b[43m(\u001b[49m\n\u001b[1;32m    108\u001b[0m \u001b[43m    \u001b[49m\u001b[43mgraph\u001b[49m\u001b[38;5;241;43m=\u001b[39;49m\u001b[43mgraph\u001b[49m\u001b[43m,\u001b[49m\n\u001b[1;32m    109\u001b[0m \u001b[43m    \u001b[49m\u001b[43mparts\u001b[49m\u001b[38;5;241;43m=\u001b[39;49m\u001b[38;5;28;43mrange\u001b[39;49m\u001b[43m(\u001b[49m\u001b[43mn_parts\u001b[49m\u001b[43m)\u001b[49m\u001b[43m,\u001b[49m\n\u001b[1;32m    110\u001b[0m \u001b[43m    \u001b[49m\u001b[43mpop_target\u001b[49m\u001b[38;5;241;43m=\u001b[39;49m\u001b[43mideal_pop\u001b[49m\u001b[43m,\u001b[49m\n\u001b[1;32m    111\u001b[0m \u001b[43m    \u001b[49m\u001b[43mpop_col\u001b[49m\u001b[38;5;241;43m=\u001b[39;49m\u001b[43mpop_col\u001b[49m\u001b[43m,\u001b[49m\n\u001b[1;32m    112\u001b[0m \u001b[43m    \u001b[49m\u001b[43mepsilon\u001b[49m\u001b[38;5;241;43m=\u001b[39;49m\u001b[43mepsilon\u001b[49m\u001b[43m,\u001b[49m\n\u001b[1;32m    113\u001b[0m \u001b[43m\u001b[49m\u001b[43m)\u001b[49m\n\u001b[1;32m    115\u001b[0m \u001b[38;5;28;01mreturn\u001b[39;00m \u001b[38;5;28mcls\u001b[39m(\n\u001b[1;32m    116\u001b[0m     graph,\n\u001b[1;32m    117\u001b[0m     assignment,\n\u001b[1;32m    118\u001b[0m     updaters,\n\u001b[1;32m    119\u001b[0m     use_default_updaters\u001b[38;5;241m=\u001b[39muse_default_updaters,\n\u001b[1;32m    120\u001b[0m )\n",
      "File \u001b[0;32m~/miniconda3/envs/gerry/lib/python3.11/site-packages/gerrychain/tree.py:1027\u001b[0m, in \u001b[0;36mrecursive_tree_part\u001b[0;34m(graph, parts, pop_target, pop_col, epsilon, node_repeats, method)\u001b[0m\n\u001b[1;32m   1024\u001b[0m new_pop_target \u001b[38;5;241m=\u001b[39m (min_pop \u001b[38;5;241m+\u001b[39m max_pop) \u001b[38;5;241m/\u001b[39m \u001b[38;5;241m2\u001b[39m\n\u001b[1;32m   1026\u001b[0m \u001b[38;5;28;01mtry\u001b[39;00m:\n\u001b[0;32m-> 1027\u001b[0m     nodes \u001b[38;5;241m=\u001b[39m \u001b[43mmethod\u001b[49m\u001b[43m(\u001b[49m\n\u001b[1;32m   1028\u001b[0m \u001b[43m        \u001b[49m\u001b[43mgraph\u001b[49m\u001b[38;5;241;43m.\u001b[39;49m\u001b[43msubgraph\u001b[49m\u001b[43m(\u001b[49m\u001b[43mremaining_nodes\u001b[49m\u001b[43m)\u001b[49m\u001b[43m,\u001b[49m\n\u001b[1;32m   1029\u001b[0m \u001b[43m        \u001b[49m\u001b[43mpop_col\u001b[49m\u001b[38;5;241;43m=\u001b[39;49m\u001b[43mpop_col\u001b[49m\u001b[43m,\u001b[49m\n\u001b[1;32m   1030\u001b[0m \u001b[43m        \u001b[49m\u001b[43mpop_target\u001b[49m\u001b[38;5;241;43m=\u001b[39;49m\u001b[43mnew_pop_target\u001b[49m\u001b[43m,\u001b[49m\n\u001b[1;32m   1031\u001b[0m \u001b[43m        \u001b[49m\u001b[43mepsilon\u001b[49m\u001b[38;5;241;43m=\u001b[39;49m\u001b[43m(\u001b[49m\u001b[43mmax_pop\u001b[49m\u001b[43m \u001b[49m\u001b[38;5;241;43m-\u001b[39;49m\u001b[43m \u001b[49m\u001b[43mmin_pop\u001b[49m\u001b[43m)\u001b[49m\u001b[43m \u001b[49m\u001b[38;5;241;43m/\u001b[39;49m\u001b[43m \u001b[49m\u001b[43m(\u001b[49m\u001b[38;5;241;43m2\u001b[39;49m\u001b[43m \u001b[49m\u001b[38;5;241;43m*\u001b[39;49m\u001b[43m \u001b[49m\u001b[43mnew_pop_target\u001b[49m\u001b[43m)\u001b[49m\u001b[43m,\u001b[49m\n\u001b[1;32m   1032\u001b[0m \u001b[43m        \u001b[49m\u001b[43mnode_repeats\u001b[49m\u001b[38;5;241;43m=\u001b[39;49m\u001b[43mnode_repeats\u001b[49m\u001b[43m,\u001b[49m\n\u001b[1;32m   1033\u001b[0m \u001b[43m        \u001b[49m\u001b[43mone_sided_cut\u001b[49m\u001b[38;5;241;43m=\u001b[39;49m\u001b[38;5;28;43;01mTrue\u001b[39;49;00m\u001b[43m,\u001b[49m\n\u001b[1;32m   1034\u001b[0m \u001b[43m    \u001b[49m\u001b[43m)\u001b[49m\n\u001b[1;32m   1035\u001b[0m \u001b[38;5;28;01mexcept\u001b[39;00m \u001b[38;5;167;01mException\u001b[39;00m:\n\u001b[1;32m   1036\u001b[0m     \u001b[38;5;28;01mraise\u001b[39;00m\n",
      "File \u001b[0;32m~/miniconda3/envs/gerry/lib/python3.11/site-packages/gerrychain/tree.py:718\u001b[0m, in \u001b[0;36mbipartition_tree\u001b[0;34m(graph, pop_col, pop_target, epsilon, node_repeats, spanning_tree, spanning_tree_fn, region_surcharge, balance_edge_fn, one_sided_cut, choice, max_attempts, warn_attempts, allow_pair_reselection, cut_choice)\u001b[0m\n\u001b[1;32m    712\u001b[0m \u001b[38;5;28;01mif\u001b[39;00m allow_pair_reselection:\n\u001b[1;32m    713\u001b[0m     \u001b[38;5;28;01mraise\u001b[39;00m ReselectException(\n\u001b[1;32m    714\u001b[0m         \u001b[38;5;124mf\u001b[39m\u001b[38;5;124m\"\u001b[39m\u001b[38;5;124mFailed to find a balanced cut after \u001b[39m\u001b[38;5;132;01m{\u001b[39;00mmax_attempts\u001b[38;5;132;01m}\u001b[39;00m\u001b[38;5;124m attempts.\u001b[39m\u001b[38;5;130;01m\\n\u001b[39;00m\u001b[38;5;124m\"\u001b[39m\n\u001b[1;32m    715\u001b[0m         \u001b[38;5;124mf\u001b[39m\u001b[38;5;124m\"\u001b[39m\u001b[38;5;124mSelecting a new district pair.\u001b[39m\u001b[38;5;124m\"\u001b[39m\n\u001b[1;32m    716\u001b[0m     )\n\u001b[0;32m--> 718\u001b[0m \u001b[38;5;28;01mraise\u001b[39;00m \u001b[38;5;167;01mRuntimeError\u001b[39;00m(\u001b[38;5;124mf\u001b[39m\u001b[38;5;124m\"\u001b[39m\u001b[38;5;124mCould not find a possible cut after \u001b[39m\u001b[38;5;132;01m{\u001b[39;00mmax_attempts\u001b[38;5;132;01m}\u001b[39;00m\u001b[38;5;124m attempts.\u001b[39m\u001b[38;5;124m\"\u001b[39m)\n",
      "\u001b[0;31mRuntimeError\u001b[0m: Could not find a possible cut after 10000 attempts."
     ]
    }
   ],
   "source": [
    "# Initial random partition\n",
    "initial_partition = Partition.from_random_assignment(\n",
    "    graph=graph,\n",
    "    n_parts=SEN_DISTS,\n",
    "    epsilon=EPS,\n",
    "    pop_col=POPCOL,\n",
    "    updaters=chain_updaters\n",
    ")"
   ]
  },
  {
   "cell_type": "code",
   "execution_count": null,
   "id": "f85d7847-5ff8-4546-be7a-3e1f196a2ad9",
   "metadata": {},
   "outputs": [],
   "source": [
    "# ReCom proposal with pair reselection to avoid BipartitionWarning\n",
    "proposal = partial(\n",
    "    recom,\n",
    "    pop_col=POPCOL,\n",
    "    pop_target=TOTPOP/SEN_DISTS,\n",
    "    epsilon=EPS,\n",
    "    node_repeats=1,\n",
    "    allow_pair_reselection=True\n",
    ")"
   ]
  },
  {
   "cell_type": "code",
   "execution_count": null,
   "id": "2af2dc96-3b41-4655-b245-3292fb31d7ea",
   "metadata": {},
   "outputs": [],
   "source": [
    "# Constraints: population constraint only (optional: add compactness if you want)\n",
    "population_constraint = constraints.within_percent_of_ideal_population(initial_partition, EPS)\n"
   ]
  },
  {
   "cell_type": "code",
   "execution_count": null,
   "id": "4748ecea-0818-464c-a888-5fe9afee27b2",
   "metadata": {},
   "outputs": [],
   "source": [
    "from gingleator import Gingleator"
   ]
  },
  {
   "cell_type": "code",
   "execution_count": null,
   "id": "b8d098bc-45db-469e-b49f-674e7952b22b",
   "metadata": {},
   "outputs": [],
   "source": [
    "# Instantiate Gingleator\n",
    "gingleator = Gingleator(\n",
    "    initial_partition=initial_partition,\n",
    "    threshold=0.4,                     # 40% BVAP as opportunity district threshold\n",
    "    score_funct=Gingleator.reward_partial_dist,  # Reward based on partial success\n",
    "    minority_perc_col=\"BVAP\",\n",
    "    pop_col=\"TOTPOP\",\n",
    "    epsilon=EPS\n",
    ")"
   ]
  },
  {
   "cell_type": "code",
   "execution_count": null,
   "id": "b1c5b208-9f20-4bec-a36e-8ba4a043fafd",
   "metadata": {},
   "outputs": [],
   "source": [
    "# Important: initialize minority % updater\n",
    "gingleator.init_minority_perc_col(\n",
    "    minority_pop_col=\"BVAP\",\n",
    "    total_pop_col=\"TOTPOP\",\n",
    "    minority_perc_col=\"BVAP\"\n",
    ")"
   ]
  },
  {
   "cell_type": "code",
   "execution_count": null,
   "id": "cf992ce4-57c8-4295-aba2-39d5692ad26e",
   "metadata": {},
   "outputs": [],
   "source": [
    "# Run Gingleator Short Bursts\n",
    "num_bursts = 1000\n",
    "num_steps_per_burst = 10\n",
    "\n",
    "# Perform short burst run\n",
    "(best_partition, observed_scores) = gingleator.short_burst_run(\n",
    "    num_bursts=num_bursts,\n",
    "    num_steps=num_steps_per_burst,\n",
    "    verbose=True,     # Show progress\n",
    "    maximize=True\n",
    ")"
   ]
  },
  {
   "cell_type": "code",
   "execution_count": null,
   "id": "54b34dfe-4855-4bab-bb87-5caf11cee9cb",
   "metadata": {},
   "outputs": [],
   "source": [
    "# Plotting\n",
    "flattened_scores = observed_scores.flatten()\n",
    "\n",
    "fig, ax = plt.subplots(figsize=(12, 6))\n",
    "plt.plot(flattened_scores, label=\"Gingleator Short Burst (reward_partial_dist)\")\n",
    "plt.xlabel(\"Steps\", fontsize=16)\n",
    "plt.ylabel(\"Gingles Score\", fontsize=16)\n",
    "plt.legend()\n",
    "plt.title(\"Short Burst Gingleator Optimization\", fontsize=18)\n",
    "plt.show()"
   ]
  },
  {
   "cell_type": "code",
   "execution_count": null,
   "id": "e1cfeb32-5dfe-481b-ab38-617ed38f0fbf",
   "metadata": {},
   "outputs": [],
   "source": []
  }
 ],
 "metadata": {
  "kernelspec": {
   "display_name": "gerry",
   "language": "python",
   "name": "gerry"
  },
  "language_info": {
   "codemirror_mode": {
    "name": "ipython",
    "version": 3
   },
   "file_extension": ".py",
   "mimetype": "text/x-python",
   "name": "python",
   "nbconvert_exporter": "python",
   "pygments_lexer": "ipython3",
   "version": "3.11.4"
  }
 },
 "nbformat": 4,
 "nbformat_minor": 5
}
