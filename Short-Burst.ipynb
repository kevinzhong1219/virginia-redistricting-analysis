{
 "cells": [
  {
   "cell_type": "code",
   "execution_count": 1,
   "id": "e1ba8db6-9ed4-4259-bf36-eead4b334428",
   "metadata": {},
   "outputs": [],
   "source": [
    "from gerrychain import (GeographicPartition, Partition, Graph, MarkovChain,\n",
    "                        proposals, updaters, constraints, accept, Election)\n",
    "from gerrychain.optimization import SingleMetricOptimizer, Gingleator\n",
    "from gerrychain.tree import recursive_seed_part\n",
    "from functools import partial\n",
    "import pandas as pd\n",
    "import json\n",
    "from networkx.readwrite import json_graph\n",
    "import matplotlib.pyplot as plt\n",
    "from tqdm import tqdm\n",
    "import numpy as np\n",
    "import random\n",
    "\n",
    "random.seed(2024)"
   ]
  },
  {
   "cell_type": "code",
   "execution_count": 2,
   "id": "e97dd331-7057-434f-a35e-37854b9ff2c2",
   "metadata": {},
   "outputs": [],
   "source": [
    "graph = Graph.from_json(\"./VA/VA1.json\");"
   ]
  },
  {
   "cell_type": "code",
   "execution_count": 3,
   "id": "2bddf9c3-e461-4b81-adb6-e179f71e331f",
   "metadata": {},
   "outputs": [
    {
     "name": "stdout",
     "output_type": "stream",
     "text": [
      "{'COUNTYFP': '001', 'LOCALITY': 'Accomack County', 'VTDST': '000101', 'PRECINCT': 'Chincoteague', 'G20PRED': 837, 'G20PRER': 1618, 'G20USSD': 915, 'G20USSR': 1563, 'TOTPOP': 3345.0, 'HISP': 96.0, 'NH_WHITE': 3035.0, 'NH_BLACK': 28.0, 'NH_AMIN': 8.0, 'NH_ASIAN': 19.0, 'NH_NHPI': 0.0, 'NH_OTHER': 7.0, 'NH_2MORE': 152.0, 'VAP': 2917.0, 'HVAP': 66.0, 'WVAP': 2674.0, 'BVAP': 25.0, 'AMINVAP': 6.0, 'ASIANVAP': 17.0, 'NHPIVAP': 0.0, 'OTHERVAP': 7.0, '2MOREVAP': 122.0, 'G18USSD': 2.111475409836066, 'G18USSR': 10.934426229508198, 'SEND': '20'}\n"
     ]
    }
   ],
   "source": [
    "print(graph.nodes()[0])"
   ]
  },
  {
   "cell_type": "code",
   "execution_count": 4,
   "id": "4b5b83fe-26ec-4002-8814-b0afca59c26c",
   "metadata": {},
   "outputs": [
    {
     "name": "stderr",
     "output_type": "stream",
     "text": [
      "/Users/lintingxuan/miniconda3/envs/gerry/lib/python3.11/site-packages/gerrychain/tree.py:704: BipartitionWarning: \n",
      "Failed to find a balanced cut after 1000 attempts.\n",
      "If possible, consider enabling pair reselection within your\n",
      "MarkovChain proposal method to allow the algorithm to select\n",
      "a different pair of districts for recombination.\n",
      "  warnings.warn(\n"
     ]
    },
    {
     "ename": "RuntimeError",
     "evalue": "Could not find a possible cut after 10000 attempts.",
     "output_type": "error",
     "traceback": [
      "\u001b[0;31m---------------------------------------------------------------------------\u001b[0m",
      "\u001b[0;31mRuntimeError\u001b[0m                              Traceback (most recent call last)",
      "Cell \u001b[0;32mIn[4], line 12\u001b[0m\n\u001b[1;32m      4\u001b[0m TOTPOP \u001b[38;5;241m=\u001b[39m \u001b[38;5;28msum\u001b[39m(graph\u001b[38;5;241m.\u001b[39mnodes()[n][POPCOL] \u001b[38;5;28;01mfor\u001b[39;00m n \u001b[38;5;129;01min\u001b[39;00m graph\u001b[38;5;241m.\u001b[39mnodes())\n\u001b[1;32m      6\u001b[0m chain_updaters \u001b[38;5;241m=\u001b[39m {\n\u001b[1;32m      7\u001b[0m \u001b[38;5;124m\"\u001b[39m\u001b[38;5;124mpopulation\u001b[39m\u001b[38;5;124m\"\u001b[39m: updaters\u001b[38;5;241m.\u001b[39mTally(POPCOL, alias\u001b[38;5;241m=\u001b[39m\u001b[38;5;124m\"\u001b[39m\u001b[38;5;124mpopulation\u001b[39m\u001b[38;5;124m\"\u001b[39m),\n\u001b[1;32m      8\u001b[0m \u001b[38;5;124m\"\u001b[39m\u001b[38;5;124mVAP\u001b[39m\u001b[38;5;124m\"\u001b[39m: updaters\u001b[38;5;241m.\u001b[39mTally(\u001b[38;5;124m\"\u001b[39m\u001b[38;5;124mVAP\u001b[39m\u001b[38;5;124m\"\u001b[39m),\n\u001b[1;32m      9\u001b[0m \u001b[38;5;124m\"\u001b[39m\u001b[38;5;124mHVAP\u001b[39m\u001b[38;5;124m\"\u001b[39m: updaters\u001b[38;5;241m.\u001b[39mTally(\u001b[38;5;124m\"\u001b[39m\u001b[38;5;124mHVAP\u001b[39m\u001b[38;5;124m\"\u001b[39m)\n\u001b[1;32m     10\u001b[0m }\n\u001b[0;32m---> 12\u001b[0m initial_partition \u001b[38;5;241m=\u001b[39m Partition\u001b[38;5;241m.\u001b[39mfrom_random_assignment(\n\u001b[1;32m     13\u001b[0m     graph\u001b[38;5;241m=\u001b[39mgraph,\n\u001b[1;32m     14\u001b[0m     n_parts\u001b[38;5;241m=\u001b[39mSEN_DISTS,\n\u001b[1;32m     15\u001b[0m     epsilon\u001b[38;5;241m=\u001b[39mEPS,\n\u001b[1;32m     16\u001b[0m     pop_col\u001b[38;5;241m=\u001b[39mPOPCOL,\n\u001b[1;32m     17\u001b[0m     updaters\u001b[38;5;241m=\u001b[39mchain_updaters\n\u001b[1;32m     18\u001b[0m )\n\u001b[1;32m     20\u001b[0m proposal \u001b[38;5;241m=\u001b[39m partial(\n\u001b[1;32m     21\u001b[0m     proposals\u001b[38;5;241m.\u001b[39mrecom,\n\u001b[1;32m     22\u001b[0m     pop_col\u001b[38;5;241m=\u001b[39mPOPCOL,\n\u001b[0;32m   (...)\u001b[0m\n\u001b[1;32m     25\u001b[0m     node_repeats\u001b[38;5;241m=\u001b[39m\u001b[38;5;241m1\u001b[39m\n\u001b[1;32m     26\u001b[0m )\n\u001b[1;32m     28\u001b[0m constraints \u001b[38;5;241m=\u001b[39m constraints\u001b[38;5;241m.\u001b[39mwithin_percent_of_ideal_population(initial_partition, EPS)\n",
      "File \u001b[0;32m~/miniconda3/envs/gerry/lib/python3.11/site-packages/gerrychain/partition/partition.py:107\u001b[0m, in \u001b[0;36mPartition.from_random_assignment\u001b[0;34m(cls, graph, n_parts, epsilon, pop_col, updaters, use_default_updaters, flips, method)\u001b[0m\n\u001b[1;32m    104\u001b[0m total_pop \u001b[38;5;241m=\u001b[39m \u001b[38;5;28msum\u001b[39m(graph\u001b[38;5;241m.\u001b[39mnodes[n][pop_col] \u001b[38;5;28;01mfor\u001b[39;00m n \u001b[38;5;129;01min\u001b[39;00m graph)\n\u001b[1;32m    105\u001b[0m ideal_pop \u001b[38;5;241m=\u001b[39m total_pop \u001b[38;5;241m/\u001b[39m n_parts\n\u001b[0;32m--> 107\u001b[0m assignment \u001b[38;5;241m=\u001b[39m method(\n\u001b[1;32m    108\u001b[0m     graph\u001b[38;5;241m=\u001b[39mgraph,\n\u001b[1;32m    109\u001b[0m     parts\u001b[38;5;241m=\u001b[39m\u001b[38;5;28mrange\u001b[39m(n_parts),\n\u001b[1;32m    110\u001b[0m     pop_target\u001b[38;5;241m=\u001b[39mideal_pop,\n\u001b[1;32m    111\u001b[0m     pop_col\u001b[38;5;241m=\u001b[39mpop_col,\n\u001b[1;32m    112\u001b[0m     epsilon\u001b[38;5;241m=\u001b[39mepsilon,\n\u001b[1;32m    113\u001b[0m )\n\u001b[1;32m    115\u001b[0m \u001b[38;5;28;01mreturn\u001b[39;00m \u001b[38;5;28mcls\u001b[39m(\n\u001b[1;32m    116\u001b[0m     graph,\n\u001b[1;32m    117\u001b[0m     assignment,\n\u001b[1;32m    118\u001b[0m     updaters,\n\u001b[1;32m    119\u001b[0m     use_default_updaters\u001b[38;5;241m=\u001b[39muse_default_updaters,\n\u001b[1;32m    120\u001b[0m )\n",
      "File \u001b[0;32m~/miniconda3/envs/gerry/lib/python3.11/site-packages/gerrychain/tree.py:1027\u001b[0m, in \u001b[0;36mrecursive_tree_part\u001b[0;34m(graph, parts, pop_target, pop_col, epsilon, node_repeats, method)\u001b[0m\n\u001b[1;32m   1024\u001b[0m new_pop_target \u001b[38;5;241m=\u001b[39m (min_pop \u001b[38;5;241m+\u001b[39m max_pop) \u001b[38;5;241m/\u001b[39m \u001b[38;5;241m2\u001b[39m\n\u001b[1;32m   1026\u001b[0m \u001b[38;5;28;01mtry\u001b[39;00m:\n\u001b[0;32m-> 1027\u001b[0m     nodes \u001b[38;5;241m=\u001b[39m method(\n\u001b[1;32m   1028\u001b[0m         graph\u001b[38;5;241m.\u001b[39msubgraph(remaining_nodes),\n\u001b[1;32m   1029\u001b[0m         pop_col\u001b[38;5;241m=\u001b[39mpop_col,\n\u001b[1;32m   1030\u001b[0m         pop_target\u001b[38;5;241m=\u001b[39mnew_pop_target,\n\u001b[1;32m   1031\u001b[0m         epsilon\u001b[38;5;241m=\u001b[39m(max_pop \u001b[38;5;241m-\u001b[39m min_pop) \u001b[38;5;241m/\u001b[39m (\u001b[38;5;241m2\u001b[39m \u001b[38;5;241m*\u001b[39m new_pop_target),\n\u001b[1;32m   1032\u001b[0m         node_repeats\u001b[38;5;241m=\u001b[39mnode_repeats,\n\u001b[1;32m   1033\u001b[0m         one_sided_cut\u001b[38;5;241m=\u001b[39m\u001b[38;5;28;01mTrue\u001b[39;00m,\n\u001b[1;32m   1034\u001b[0m     )\n\u001b[1;32m   1035\u001b[0m \u001b[38;5;28;01mexcept\u001b[39;00m \u001b[38;5;167;01mException\u001b[39;00m:\n\u001b[1;32m   1036\u001b[0m     \u001b[38;5;28;01mraise\u001b[39;00m\n",
      "File \u001b[0;32m~/miniconda3/envs/gerry/lib/python3.11/site-packages/gerrychain/tree.py:718\u001b[0m, in \u001b[0;36mbipartition_tree\u001b[0;34m(graph, pop_col, pop_target, epsilon, node_repeats, spanning_tree, spanning_tree_fn, region_surcharge, balance_edge_fn, one_sided_cut, choice, max_attempts, warn_attempts, allow_pair_reselection, cut_choice)\u001b[0m\n\u001b[1;32m    712\u001b[0m \u001b[38;5;28;01mif\u001b[39;00m allow_pair_reselection:\n\u001b[1;32m    713\u001b[0m     \u001b[38;5;28;01mraise\u001b[39;00m ReselectException(\n\u001b[1;32m    714\u001b[0m         \u001b[38;5;124mf\u001b[39m\u001b[38;5;124m\"\u001b[39m\u001b[38;5;124mFailed to find a balanced cut after \u001b[39m\u001b[38;5;132;01m{\u001b[39;00mmax_attempts\u001b[38;5;132;01m}\u001b[39;00m\u001b[38;5;124m attempts.\u001b[39m\u001b[38;5;130;01m\\n\u001b[39;00m\u001b[38;5;124m\"\u001b[39m\n\u001b[1;32m    715\u001b[0m         \u001b[38;5;124mf\u001b[39m\u001b[38;5;124m\"\u001b[39m\u001b[38;5;124mSelecting a new district pair.\u001b[39m\u001b[38;5;124m\"\u001b[39m\n\u001b[1;32m    716\u001b[0m     )\n\u001b[0;32m--> 718\u001b[0m \u001b[38;5;28;01mraise\u001b[39;00m \u001b[38;5;167;01mRuntimeError\u001b[39;00m(\u001b[38;5;124mf\u001b[39m\u001b[38;5;124m\"\u001b[39m\u001b[38;5;124mCould not find a possible cut after \u001b[39m\u001b[38;5;132;01m{\u001b[39;00mmax_attempts\u001b[38;5;132;01m}\u001b[39;00m\u001b[38;5;124m attempts.\u001b[39m\u001b[38;5;124m\"\u001b[39m)\n",
      "\u001b[0;31mRuntimeError\u001b[0m: Could not find a possible cut after 10000 attempts."
     ]
    }
   ],
   "source": [
    "POPCOL = \"TOTPOP\"\n",
    "SEN_DISTS = 40\n",
    "EPS = 5\n",
    "TOTPOP = sum(graph.nodes()[n][POPCOL] for n in graph.nodes())\n",
    "\n",
    "chain_updaters = {\n",
    "\"population\": updaters.Tally(POPCOL, alias=\"population\"),\n",
    "\"VAP\": updaters.Tally(\"VAP\"),\n",
    "\"HVAP\": updaters.Tally(\"HVAP\")\n",
    "}\n",
    "\n",
    "initial_partition = Partition.from_random_assignment(\n",
    "    graph=graph,\n",
    "    n_parts=SEN_DISTS,\n",
    "    epsilon=EPS,\n",
    "    pop_col=POPCOL,\n",
    "    updaters=chain_updaters\n",
    ")\n",
    "\n",
    "proposal = partial(\n",
    "    proposals.recom,\n",
    "    pop_col=POPCOL,\n",
    "    pop_target=TOTPOP/SEN_DISTS,\n",
    "    epsilon=EPS,\n",
    "    node_repeats=1\n",
    ")\n",
    "\n",
    "constraints = constraints.within_percent_of_ideal_population(initial_partition, EPS)"
   ]
  },
  {
   "cell_type": "code",
   "execution_count": null,
   "id": "810f4aed-e1bc-445e-93be-c2adb2d15ae6",
   "metadata": {},
   "outputs": [],
   "source": [
    "num_cut_edges = lambda p: len(p[\"cut_edges\"])\n",
    "\n",
    "optimizer = SingleMetricOptimizer(\n",
    "    proposal=proposal,\n",
    "    constraints=constraints,\n",
    "    initial_state=initial_partition,\n",
    "    optimization_metric=num_cut_edges,\n",
    "    maximize=False\n",
    ")"
   ]
  },
  {
   "cell_type": "code",
   "execution_count": null,
   "id": "4096e6c9-3e28-4268-b004-04bd4cb3254b",
   "metadata": {},
   "outputs": [],
   "source": [
    "total_steps = 10000\n",
    "\n",
    "# Short Bursts\n",
    "min_scores_sb = np.zeros(total_steps)\n",
    "for i, part in enumerate(optimizer.short_bursts(5, 2000, with_progress_bar=True)):\n",
    "    min_scores_sb[i] = optimizer.best_score\n",
    "\n",
    "# Simulated Annealing\n",
    "min_scores_anneal = np.zeros(total_steps)\n",
    "for i, part in enumerate(\n",
    "    optimizer.simulated_annealing(\n",
    "        total_steps,\n",
    "        optimizer.jumpcycle_beta_function(200, 800),\n",
    "        beta_magnitude=1,\n",
    "        with_progress_bar=True\n",
    "    )\n",
    "):\n",
    "    min_scores_anneal[i] = optimizer.best_score\n",
    "\n",
    "# Tilted Runs\n",
    "min_scores_tilt = np.zeros(total_steps)\n",
    "for i, part in enumerate(optimizer.tilted_run(total_steps, p=0.125, with_progress_bar=True)):\n",
    "    min_scores_tilt[i] = optimizer.best_score"
   ]
  },
  {
   "cell_type": "code",
   "execution_count": null,
   "id": "ac54fc1a-f09c-43ce-b320-d908da4ff75e",
   "metadata": {},
   "outputs": [],
   "source": [
    "fig, ax = plt.subplots(figsize=(12,6))\n",
    "plt.plot(min_scores_sb, label=\"Short Bursts\")\n",
    "plt.plot(min_scores_anneal, label=\"Simulated Annealing\")\n",
    "plt.plot(min_scores_tilt, label=\"Tilted Run\")\n",
    "plt.xlabel(\"Steps\", fontsize=20)\n",
    "plt.ylabel(\"Min #CutEdges Observered\", fontsize=20)\n",
    "plt.legend()\n",
    "plt.show()"
   ]
  },
  {
   "cell_type": "code",
   "execution_count": null,
   "id": "b8d098bc-45db-469e-b49f-674e7952b22b",
   "metadata": {},
   "outputs": [],
   "source": [
    "gingles = Gingleator(\n",
    "    proposal,\n",
    "    constraints,\n",
    "    initial_partition,\n",
    "    minority_pop_col=\"BVAP\",\n",
    "    total_pop_col=\"TOTPOP\",\n",
    "    score_function=Gingleator.reward_partial_dist\n",
    ")"
   ]
  },
  {
   "cell_type": "code",
   "execution_count": null,
   "id": "cf992ce4-57c8-4295-aba2-39d5692ad26e",
   "metadata": {},
   "outputs": [],
   "source": [
    "total_steps = 10000\n",
    "\n",
    "# Short Bursts\n",
    "max_scores_sb = np.zeros(total_steps)\n",
    "scores_sb = np.zeros(total_steps)\n",
    "for i, part in enumerate(gingles.short_bursts(10, 1000, with_progress_bar=True)):\n",
    "    max_scores_sb[i] = gingles.best_score\n",
    "    scores_sb[i] = gingles.score(part)\n",
    "\n",
    "# Simulated Annealing\n",
    "max_scores_anneal = np.zeros(total_steps)\n",
    "scores_anneal = np.zeros(total_steps)\n",
    "for i, part in enumerate(\n",
    "    gingles.simulated_annealing(\n",
    "        total_steps,\n",
    "        gingles.jumpcycle_beta_function(1000, 4000),\n",
    "        beta_magnitude=500,\n",
    "        with_progress_bar=True\n",
    "    )\n",
    "):\n",
    "    max_scores_anneal[i] = gingles.best_score\n",
    "    scores_anneal[i] = gingles.score(part)\n",
    "\n",
    "# Tilted Runs\n",
    "max_scores_tilt = np.zeros(total_steps)\n",
    "scores_tilt = np.zeros(total_steps)\n",
    "for i, part in enumerate(gingles.tilted_run(total_steps, 0.125, with_progress_bar=True)):\n",
    "    max_scores_tilt[i] = gingles.best_score\n",
    "    scores_tilt[i] = gingles.score(part)"
   ]
  },
  {
   "cell_type": "code",
   "execution_count": null,
   "id": "54b34dfe-4855-4bab-bb87-5caf11cee9cb",
   "metadata": {},
   "outputs": [],
   "source": [
    "fig, ax = plt.subplots(figsize=(12,6))\n",
    "plt.plot(max_scores_sb, label=\"Short Bursts\")\n",
    "plt.plot(max_scores_anneal, label=\"Simulated Annealing\")\n",
    "plt.plot(max_scores_tilt, label=\"Tilted Run\")\n",
    "plt.xlabel(\"Steps\", fontsize=20)\n",
    "plt.ylabel(\"Max Score Observered\", fontsize=20)\n",
    "plt.legend()\n",
    "plt.show()"
   ]
  },
  {
   "cell_type": "code",
   "execution_count": null,
   "id": "e1cfeb32-5dfe-481b-ab38-617ed38f0fbf",
   "metadata": {},
   "outputs": [],
   "source": []
  }
 ],
 "metadata": {
  "kernelspec": {
   "display_name": "gerry",
   "language": "python",
   "name": "gerry"
  },
  "language_info": {
   "codemirror_mode": {
    "name": "ipython",
    "version": 3
   },
   "file_extension": ".py",
   "mimetype": "text/x-python",
   "name": "python",
   "nbconvert_exporter": "python",
   "pygments_lexer": "ipython3",
   "version": "3.11.8"
  }
 },
 "nbformat": 4,
 "nbformat_minor": 5
}
